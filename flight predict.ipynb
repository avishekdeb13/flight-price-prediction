{
 "cells": [
  {
   "cell_type": "code",
   "execution_count": 6,
   "metadata": {},
   "outputs": [],
   "source": [
    "# Libraries\n",
    "import pandas as pd\n",
    "from sklearn.model_selection import train_test_split\n",
    "from sklearn.model_selection import GridSearchCV\n",
    "\n",
    "import matplotlib.pyplot as plt\n",
    "from chart_studio.plotly import plot,iplot\n",
    "import cufflinks as cf\n",
    "import seaborn as sns\n",
    "\n",
    "from sklearn.linear_model import LinearRegression\n",
    "from sklearn.tree import DecisionTreeRegressor\n",
    "from sklearn.ensemble import RandomForestRegressor\n",
    "from sklearn.ensemble import  ExtraTreesRegressor\n",
    "from catboost import CatBoostRegressor\n",
    "from lightgbm import LGBMRegressor\n",
    "import xgboost as xgb\n",
    "\n",
    "import pickle\n",
    "\n",
    "%matplotlib inline"
   ]
  },
  {
   "cell_type": "code",
   "execution_count": 7,
   "metadata": {},
   "outputs": [],
   "source": [
    "# Dataset import\n",
    "datafile = pd.read_excel(\"E:/PROJECTS/Machine Learning/3. Flight price prediction/Dataset/Data_Train.xlsx\")"
   ]
  },
  {
   "cell_type": "code",
   "execution_count": 8,
   "metadata": {},
   "outputs": [],
   "source": [
    "df = datafile.copy()"
   ]
  },
  {
   "cell_type": "markdown",
   "metadata": {},
   "source": [
    "### Exploratory Data Analysis"
   ]
  },
  {
   "cell_type": "code",
   "execution_count": 9,
   "metadata": {},
   "outputs": [
    {
     "data": {
      "text/plain": [
       "Index(['Airline', 'Date_of_Journey', 'Source', 'Destination', 'Route',\n",
       "       'Dep_Time', 'Arrival_Time', 'Duration', 'Total_Stops',\n",
       "       'Additional_Info', 'Price'],\n",
       "      dtype='object')"
      ]
     },
     "execution_count": 9,
     "metadata": {},
     "output_type": "execute_result"
    }
   ],
   "source": [
    "df.columns"
   ]
  },
  {
   "cell_type": "code",
   "execution_count": 10,
   "metadata": {},
   "outputs": [
    {
     "data": {
      "text/plain": [
       "(10683, 11)"
      ]
     },
     "execution_count": 10,
     "metadata": {},
     "output_type": "execute_result"
    }
   ],
   "source": [
    "df.shape"
   ]
  },
  {
   "cell_type": "code",
   "execution_count": 11,
   "metadata": {},
   "outputs": [
    {
     "data": {
      "text/plain": [
       "Airline            object\n",
       "Date_of_Journey    object\n",
       "Source             object\n",
       "Destination        object\n",
       "Route              object\n",
       "Dep_Time           object\n",
       "Arrival_Time       object\n",
       "Duration           object\n",
       "Total_Stops        object\n",
       "Additional_Info    object\n",
       "Price               int64\n",
       "dtype: object"
      ]
     },
     "execution_count": 11,
     "metadata": {},
     "output_type": "execute_result"
    }
   ],
   "source": [
    "df.dtypes"
   ]
  },
  {
   "cell_type": "code",
   "execution_count": 12,
   "metadata": {},
   "outputs": [
    {
     "name": "stdout",
     "output_type": "stream",
     "text": [
      "<class 'pandas.core.frame.DataFrame'>\n",
      "RangeIndex: 10683 entries, 0 to 10682\n",
      "Data columns (total 11 columns):\n",
      " #   Column           Non-Null Count  Dtype \n",
      "---  ------           --------------  ----- \n",
      " 0   Airline          10683 non-null  object\n",
      " 1   Date_of_Journey  10683 non-null  object\n",
      " 2   Source           10683 non-null  object\n",
      " 3   Destination      10683 non-null  object\n",
      " 4   Route            10682 non-null  object\n",
      " 5   Dep_Time         10683 non-null  object\n",
      " 6   Arrival_Time     10683 non-null  object\n",
      " 7   Duration         10683 non-null  object\n",
      " 8   Total_Stops      10682 non-null  object\n",
      " 9   Additional_Info  10683 non-null  object\n",
      " 10  Price            10683 non-null  int64 \n",
      "dtypes: int64(1), object(10)\n",
      "memory usage: 918.2+ KB\n"
     ]
    }
   ],
   "source": [
    "df.info()"
   ]
  },
  {
   "cell_type": "code",
   "execution_count": 13,
   "metadata": {},
   "outputs": [
    {
     "data": {
      "text/plain": [
       "Airline            0\n",
       "Date_of_Journey    0\n",
       "Source             0\n",
       "Destination        0\n",
       "Route              1\n",
       "Dep_Time           0\n",
       "Arrival_Time       0\n",
       "Duration           0\n",
       "Total_Stops        1\n",
       "Additional_Info    0\n",
       "Price              0\n",
       "dtype: int64"
      ]
     },
     "execution_count": 13,
     "metadata": {},
     "output_type": "execute_result"
    }
   ],
   "source": [
    "df.isnull().sum()"
   ]
  },
  {
   "cell_type": "code",
   "execution_count": 14,
   "metadata": {},
   "outputs": [
    {
     "data": {
      "text/plain": [
       "Airline            0\n",
       "Date_of_Journey    0\n",
       "Source             0\n",
       "Destination        0\n",
       "Route              0\n",
       "Dep_Time           0\n",
       "Arrival_Time       0\n",
       "Duration           0\n",
       "Total_Stops        0\n",
       "Additional_Info    0\n",
       "Price              0\n",
       "dtype: int64"
      ]
     },
     "execution_count": 14,
     "metadata": {},
     "output_type": "execute_result"
    }
   ],
   "source": [
    "#Remove the NaN values from the dataset\n",
    "df.dropna(how='any',inplace=True)\n",
    "df.isnull().sum()"
   ]
  },
  {
   "cell_type": "markdown",
   "metadata": {},
   "source": [
    "### Feature Engineering"
   ]
  },
  {
   "cell_type": "code",
   "execution_count": 15,
   "metadata": {},
   "outputs": [
    {
     "data": {
      "text/html": [
       "<div>\n",
       "<style scoped>\n",
       "    .dataframe tbody tr th:only-of-type {\n",
       "        vertical-align: middle;\n",
       "    }\n",
       "\n",
       "    .dataframe tbody tr th {\n",
       "        vertical-align: top;\n",
       "    }\n",
       "\n",
       "    .dataframe thead th {\n",
       "        text-align: right;\n",
       "    }\n",
       "</style>\n",
       "<table border=\"1\" class=\"dataframe\">\n",
       "  <thead>\n",
       "    <tr style=\"text-align: right;\">\n",
       "      <th></th>\n",
       "      <th>Airline</th>\n",
       "      <th>Date_of_Journey</th>\n",
       "      <th>Source</th>\n",
       "      <th>Destination</th>\n",
       "      <th>Route</th>\n",
       "      <th>Dep_Time</th>\n",
       "      <th>Arrival_Time</th>\n",
       "      <th>Duration</th>\n",
       "      <th>Total_Stops</th>\n",
       "      <th>Additional_Info</th>\n",
       "      <th>Price</th>\n",
       "    </tr>\n",
       "  </thead>\n",
       "  <tbody>\n",
       "    <tr>\n",
       "      <th>0</th>\n",
       "      <td>IndiGo</td>\n",
       "      <td>24/03/2019</td>\n",
       "      <td>Banglore</td>\n",
       "      <td>New Delhi</td>\n",
       "      <td>BLR → DEL</td>\n",
       "      <td>22:20</td>\n",
       "      <td>01:10 22 Mar</td>\n",
       "      <td>2h 50m</td>\n",
       "      <td>non-stop</td>\n",
       "      <td>No info</td>\n",
       "      <td>3897</td>\n",
       "    </tr>\n",
       "    <tr>\n",
       "      <th>1</th>\n",
       "      <td>Air India</td>\n",
       "      <td>1/05/2019</td>\n",
       "      <td>Kolkata</td>\n",
       "      <td>Banglore</td>\n",
       "      <td>CCU → IXR → BBI → BLR</td>\n",
       "      <td>05:50</td>\n",
       "      <td>13:15</td>\n",
       "      <td>7h 25m</td>\n",
       "      <td>2 stops</td>\n",
       "      <td>No info</td>\n",
       "      <td>7662</td>\n",
       "    </tr>\n",
       "    <tr>\n",
       "      <th>2</th>\n",
       "      <td>Jet Airways</td>\n",
       "      <td>9/06/2019</td>\n",
       "      <td>Delhi</td>\n",
       "      <td>Cochin</td>\n",
       "      <td>DEL → LKO → BOM → COK</td>\n",
       "      <td>09:25</td>\n",
       "      <td>04:25 10 Jun</td>\n",
       "      <td>19h</td>\n",
       "      <td>2 stops</td>\n",
       "      <td>No info</td>\n",
       "      <td>13882</td>\n",
       "    </tr>\n",
       "  </tbody>\n",
       "</table>\n",
       "</div>"
      ],
      "text/plain": [
       "       Airline Date_of_Journey    Source Destination                  Route  \\\n",
       "0       IndiGo      24/03/2019  Banglore   New Delhi              BLR → DEL   \n",
       "1    Air India       1/05/2019   Kolkata    Banglore  CCU → IXR → BBI → BLR   \n",
       "2  Jet Airways       9/06/2019     Delhi      Cochin  DEL → LKO → BOM → COK   \n",
       "\n",
       "  Dep_Time  Arrival_Time Duration Total_Stops Additional_Info  Price  \n",
       "0    22:20  01:10 22 Mar   2h 50m    non-stop         No info   3897  \n",
       "1    05:50         13:15   7h 25m     2 stops         No info   7662  \n",
       "2    09:25  04:25 10 Jun      19h     2 stops         No info  13882  "
      ]
     },
     "execution_count": 15,
     "metadata": {},
     "output_type": "execute_result"
    }
   ],
   "source": [
    "df.head(3)"
   ]
  },
  {
   "cell_type": "code",
   "execution_count": 16,
   "metadata": {},
   "outputs": [],
   "source": [
    "# Breaking up of the Date_of_Journey column into 2 separte columns\n",
    "df['Date_of_Journey']=pd.to_datetime(df['Date_of_Journey'])\n",
    "df['Day_of_Journey']=(df['Date_of_Journey']).dt.day\n",
    "df['Month_of_Journey']=(df['Date_of_Journey']).dt.month\n",
    "df.drop([\"Date_of_Journey\"],axis=1,inplace=True)"
   ]
  },
  {
   "cell_type": "code",
   "execution_count": 17,
   "metadata": {},
   "outputs": [],
   "source": [
    "# Dep_time break-up\n",
    "df['Dep_hr']=pd.to_datetime(df['Dep_Time']).dt.hour\n",
    "df['Dep_min']=pd.to_datetime(df['Dep_Time']).dt.minute\n",
    "df.drop([\"Dep_Time\"],axis=1,inplace=True)"
   ]
  },
  {
   "cell_type": "code",
   "execution_count": 18,
   "metadata": {},
   "outputs": [],
   "source": [
    "# Arrival_time break-up\n",
    "df['Arrival_hr']=pd.to_datetime(df['Arrival_Time']).dt.hour\n",
    "df['Arrival_min']=pd.to_datetime(df['Arrival_Time']).dt.minute\n",
    "df.drop([\"Arrival_Time\"],axis=1,inplace=True)"
   ]
  },
  {
   "cell_type": "code",
   "execution_count": 19,
   "metadata": {},
   "outputs": [],
   "source": [
    "# Duration time\n",
    "duration=df['Duration'].str.split(' ',expand=True)\n",
    "duration[1].fillna('00m',inplace=True)\n",
    "df['duration_hr']=duration[0].apply(lambda x: x[:-1])\n",
    "df['duration_min']=duration[1].apply(lambda x: x[:-1])\n",
    "df.drop([\"Duration\"],axis=1,inplace=True)"
   ]
  },
  {
   "cell_type": "code",
   "execution_count": 20,
   "metadata": {},
   "outputs": [
    {
     "data": {
      "text/html": [
       "<div>\n",
       "<style scoped>\n",
       "    .dataframe tbody tr th:only-of-type {\n",
       "        vertical-align: middle;\n",
       "    }\n",
       "\n",
       "    .dataframe tbody tr th {\n",
       "        vertical-align: top;\n",
       "    }\n",
       "\n",
       "    .dataframe thead th {\n",
       "        text-align: right;\n",
       "    }\n",
       "</style>\n",
       "<table border=\"1\" class=\"dataframe\">\n",
       "  <thead>\n",
       "    <tr style=\"text-align: right;\">\n",
       "      <th></th>\n",
       "      <th>Airline</th>\n",
       "      <th>Source</th>\n",
       "      <th>Destination</th>\n",
       "      <th>Route</th>\n",
       "      <th>Total_Stops</th>\n",
       "      <th>Additional_Info</th>\n",
       "      <th>Price</th>\n",
       "      <th>Day_of_Journey</th>\n",
       "      <th>Month_of_Journey</th>\n",
       "      <th>Dep_hr</th>\n",
       "      <th>Dep_min</th>\n",
       "      <th>Arrival_hr</th>\n",
       "      <th>Arrival_min</th>\n",
       "      <th>duration_hr</th>\n",
       "      <th>duration_min</th>\n",
       "    </tr>\n",
       "  </thead>\n",
       "  <tbody>\n",
       "    <tr>\n",
       "      <th>0</th>\n",
       "      <td>IndiGo</td>\n",
       "      <td>Banglore</td>\n",
       "      <td>New Delhi</td>\n",
       "      <td>BLR → DEL</td>\n",
       "      <td>non-stop</td>\n",
       "      <td>No info</td>\n",
       "      <td>3897</td>\n",
       "      <td>24</td>\n",
       "      <td>3</td>\n",
       "      <td>22</td>\n",
       "      <td>20</td>\n",
       "      <td>1</td>\n",
       "      <td>10</td>\n",
       "      <td>2</td>\n",
       "      <td>50</td>\n",
       "    </tr>\n",
       "    <tr>\n",
       "      <th>1</th>\n",
       "      <td>Air India</td>\n",
       "      <td>Kolkata</td>\n",
       "      <td>Banglore</td>\n",
       "      <td>CCU → IXR → BBI → BLR</td>\n",
       "      <td>2 stops</td>\n",
       "      <td>No info</td>\n",
       "      <td>7662</td>\n",
       "      <td>5</td>\n",
       "      <td>1</td>\n",
       "      <td>5</td>\n",
       "      <td>50</td>\n",
       "      <td>13</td>\n",
       "      <td>15</td>\n",
       "      <td>7</td>\n",
       "      <td>25</td>\n",
       "    </tr>\n",
       "  </tbody>\n",
       "</table>\n",
       "</div>"
      ],
      "text/plain": [
       "     Airline    Source Destination                  Route Total_Stops  \\\n",
       "0     IndiGo  Banglore   New Delhi              BLR → DEL    non-stop   \n",
       "1  Air India   Kolkata    Banglore  CCU → IXR → BBI → BLR     2 stops   \n",
       "\n",
       "  Additional_Info  Price  Day_of_Journey  Month_of_Journey  Dep_hr  Dep_min  \\\n",
       "0         No info   3897              24                 3      22       20   \n",
       "1         No info   7662               5                 1       5       50   \n",
       "\n",
       "   Arrival_hr  Arrival_min duration_hr duration_min  \n",
       "0           1           10           2           50  \n",
       "1          13           15           7           25  "
      ]
     },
     "execution_count": 20,
     "metadata": {},
     "output_type": "execute_result"
    }
   ],
   "source": [
    "df.head(2)"
   ]
  },
  {
   "cell_type": "markdown",
   "metadata": {},
   "source": [
    "### Visualisation"
   ]
  },
  {
   "cell_type": "code",
   "execution_count": 21,
   "metadata": {},
   "outputs": [
    {
     "data": {
      "text/html": [
       "        <script type=\"text/javascript\">\n",
       "        window.PlotlyConfig = {MathJaxConfig: 'local'};\n",
       "        if (window.MathJax) {MathJax.Hub.Config({SVG: {font: \"STIX-Web\"}});}\n",
       "        if (typeof require !== 'undefined') {\n",
       "        require.undef(\"plotly\");\n",
       "        requirejs.config({\n",
       "            paths: {\n",
       "                'plotly': ['https://cdn.plot.ly/plotly-2.8.3.min']\n",
       "            }\n",
       "        });\n",
       "        require(['plotly'], function(Plotly) {\n",
       "            window._Plotly = Plotly;\n",
       "        });\n",
       "        }\n",
       "        </script>\n",
       "        "
      ]
     },
     "metadata": {},
     "output_type": "display_data"
    }
   ],
   "source": [
    "cf.set_config_file(theme='ggplot',sharing='public',offline=True)"
   ]
  },
  {
   "cell_type": "code",
   "execution_count": 22,
   "metadata": {},
   "outputs": [
    {
     "data": {
      "text/plain": [
       "Jet Airways                          3849\n",
       "IndiGo                               2053\n",
       "Air India                            1751\n",
       "Multiple carriers                    1196\n",
       "SpiceJet                              818\n",
       "Vistara                               479\n",
       "Air Asia                              319\n",
       "GoAir                                 194\n",
       "Multiple carriers Premium economy      13\n",
       "Jet Airways Business                    6\n",
       "Vistara Premium economy                 3\n",
       "Trujet                                  1\n",
       "Name: Airline, dtype: int64"
      ]
     },
     "execution_count": 22,
     "metadata": {},
     "output_type": "execute_result"
    }
   ],
   "source": [
    "# Count of airline\n",
    "df['Airline'].value_counts()"
   ]
  },
  {
   "cell_type": "code",
   "execution_count": 23,
   "metadata": {},
   "outputs": [
    {
     "name": "stderr",
     "output_type": "stream",
     "text": [
      "F:\\SOFTWARES\\Installed files\\PYTHON\\lib\\site-packages\\seaborn\\_decorators.py:43: FutureWarning:\n",
      "\n",
      "Pass the following variables as keyword args: x, y. From version 0.12, the only valid positional argument will be `data`, and passing other arguments without an explicit keyword will result in an error or misinterpretation.\n",
      "\n"
     ]
    },
    {
     "data": {
      "image/png": "[encoded data removed]",
      "text/plain": [
       "<Figure size 1080x720 with 1 Axes>"
      ]
     },
     "metadata": {
      "needs_background": "light"
     },
     "output_type": "display_data"
    },
    {
     "name": "stdout",
     "output_type": "stream",
     "text": [
      "Jet airways has the highets and trujet has the lowest\n"
     ]
    }
   ],
   "source": [
    "# Airline vs. Price\n",
    "Airprices=df.groupby('Airline')['Price'].mean().sort_values(ascending=False)\n",
    "plt.figure(figsize=(15,10))\n",
    "sns.barplot(Airprices.index,Airprices.values)\n",
    "plt.xticks(rotation=270)\n",
    "plt.show()\n",
    "print(\"Jet airways has the highets and trujet has the lowest\")"
   ]
  },
  {
   "cell_type": "code",
   "execution_count": 24,
   "metadata": {},
   "outputs": [
    {
     "data": {
      "image/png": "[encoded data removed]",
      "text/plain": [
       "<Figure size 1296x720 with 1 Axes>"
      ]
     },
     "metadata": {
      "needs_background": "light"
     },
     "output_type": "display_data"
    }
   ],
   "source": [
    "# Boxplot\n",
    "plt.figure(figsize=(18,10))\n",
    "sns.boxplot(y='Price',x='Airline',data= df.sort_values('Price',ascending=False))\n",
    "plt.show()"
   ]
  },
  {
   "cell_type": "code",
   "execution_count": 25,
   "metadata": {},
   "outputs": [
    {
     "data": {
      "text/plain": [
       "Airline                            Total_Stops\n",
       "Air Asia                           1 stop          7078.325581\n",
       "                                   2 stops         6341.888889\n",
       "                                   non-stop        4492.331492\n",
       "Air India                          1 stop          9041.509259\n",
       "                                   2 stops        12092.779101\n",
       "                                   3 stops        12208.054054\n",
       "                                   4 stops        17686.000000\n",
       "                                   non-stop        5605.326139\n",
       "GoAir                              1 stop          6884.676471\n",
       "                                   non-stop        4726.173913\n",
       "IndiGo                             1 stop          7104.717528\n",
       "                                   2 stops         7507.526316\n",
       "                                   non-stop        4731.174053\n",
       "Jet Airways                        1 stop         12512.741223\n",
       "                                   2 stops        13387.247467\n",
       "                                   non-stop        6175.078652\n",
       "Jet Airways Business               1 stop         62844.250000\n",
       "                                   2 stops        49387.500000\n",
       "Multiple carriers                  1 stop         10711.316157\n",
       "                                   2 stops        14809.395349\n",
       "                                   3 stops        17292.750000\n",
       "Multiple carriers Premium economy  1 stop         11418.846154\n",
       "SpiceJet                           1 stop          6750.560811\n",
       "                                   non-stop        3805.423881\n",
       "Trujet                             1 stop          4140.000000\n",
       "Vistara                            1 stop          9641.148837\n",
       "                                   non-stop        6293.954545\n",
       "Vistara Premium economy            non-stop        8962.333333\n",
       "Name: Price, dtype: float64"
      ]
     },
     "execution_count": 25,
     "metadata": {},
     "output_type": "execute_result"
    }
   ],
   "source": [
    "# Price based on number of stops\n",
    "df.groupby(['Airline','Total_Stops'])['Price'].mean()"
   ]
  },
  {
   "cell_type": "code",
   "execution_count": 26,
   "metadata": {},
   "outputs": [
    {
     "data": {
      "image/png": "[encoded data removed]",
      "text/plain": [
       "<Figure size 1296x720 with 1 Axes>"
      ]
     },
     "metadata": {
      "needs_background": "light"
     },
     "output_type": "display_data"
    },
    {
     "name": "stdout",
     "output_type": "stream",
     "text": [
      "One stop and two stpos Jet Airways Business is having the highest price\n"
     ]
    }
   ],
   "source": [
    "plt.figure(figsize=(18,10))\n",
    "ax=sns.barplot(x=df['Airline'],y=df['Price'],hue=df['Total_Stops'],palette=\"Set1\")\n",
    "ax.set_xticklabels(ax.get_xticklabels(),rotation=90)\n",
    "plt.show()\n",
    "print(\"One stop and two stpos Jet Airways Business is having the highest price\")"
   ]
  },
  {
   "cell_type": "code",
   "execution_count": 27,
   "metadata": {},
   "outputs": [
    {
     "data": {
      "text/plain": [
       "Delhi       4536\n",
       "Kolkata     2871\n",
       "Banglore    2197\n",
       "Mumbai       697\n",
       "Chennai      381\n",
       "Name: Source, dtype: int64"
      ]
     },
     "execution_count": 27,
     "metadata": {},
     "output_type": "execute_result"
    }
   ],
   "source": [
    "df['Source'].value_counts()"
   ]
  },
  {
   "cell_type": "code",
   "execution_count": 28,
   "metadata": {},
   "outputs": [
    {
     "data": {
      "image/png": "[encoded data removed]",
      "text/plain": [
       "<Figure size 1080x720 with 1 Axes>"
      ]
     },
     "metadata": {
      "needs_background": "light"
     },
     "output_type": "display_data"
    },
    {
     "name": "stdout",
     "output_type": "stream",
     "text": [
      "Flights taking off from Delhi has the highest price followed by Kolkata\n"
     ]
    }
   ],
   "source": [
    "# Source vs. Price\n",
    "plt.figure(figsize=(15,10))\n",
    "sns.barplot(y='Price',x='Source',data=df.sort_values('Price',ascending=False))\n",
    "plt.show()\n",
    "print(\"Flights taking off from Delhi has the highest price followed by Kolkata\")"
   ]
  },
  {
   "cell_type": "code",
   "execution_count": 29,
   "metadata": {},
   "outputs": [
    {
     "data": {
      "text/plain": [
       "Cochin       4536\n",
       "Banglore     2871\n",
       "Delhi        1265\n",
       "New Delhi     932\n",
       "Hyderabad     697\n",
       "Kolkata       381\n",
       "Name: Destination, dtype: int64"
      ]
     },
     "execution_count": 29,
     "metadata": {},
     "output_type": "execute_result"
    }
   ],
   "source": [
    "df['Destination'].value_counts()"
   ]
  },
  {
   "cell_type": "code",
   "execution_count": 30,
   "metadata": {},
   "outputs": [],
   "source": [
    "# Delhi and New delhi values can be combined with just Delhi values.\n",
    "for i in df:\n",
    "    df.replace('New Delhi', 'Delhi', inplace=True)"
   ]
  },
  {
   "cell_type": "code",
   "execution_count": 31,
   "metadata": {},
   "outputs": [
    {
     "data": {
      "text/plain": [
       "Cochin       4536\n",
       "Banglore     2871\n",
       "Delhi        2197\n",
       "Hyderabad     697\n",
       "Kolkata       381\n",
       "Name: Destination, dtype: int64"
      ]
     },
     "execution_count": 31,
     "metadata": {},
     "output_type": "execute_result"
    }
   ],
   "source": [
    "df['Destination'].value_counts()"
   ]
  },
  {
   "cell_type": "code",
   "execution_count": 32,
   "metadata": {},
   "outputs": [
    {
     "data": {
      "image/png": "[encoded data removed]",
      "text/plain": [
       "<Figure size 1080x720 with 1 Axes>"
      ]
     },
     "metadata": {
      "needs_background": "light"
     },
     "output_type": "display_data"
    },
    {
     "name": "stdout",
     "output_type": "stream",
     "text": [
      "Flights landing to Cochin has the highest price and Kolkata has the lowest\n"
     ]
    }
   ],
   "source": [
    "# Destination vs price\n",
    "plt.figure(figsize=(15,10))\n",
    "sns.barplot(y='Price',x='Destination',data=df.sort_values('Price',ascending=False))\n",
    "plt.show()\n",
    "print(\"Flights landing to Cochin has the highest price and Kolkata has the lowest\")"
   ]
  },
  {
   "cell_type": "code",
   "execution_count": 33,
   "metadata": {},
   "outputs": [
    {
     "data": {
      "image/png": "[encoded data removed]",
      "text/plain": [
       "<Figure size 1080x360 with 2 Axes>"
      ]
     },
     "metadata": {
      "needs_background": "light"
     },
     "output_type": "display_data"
    },
    {
     "name": "stdout",
     "output_type": "stream",
     "text": [
      "The variables are not much correlated with each other\n"
     ]
    }
   ],
   "source": [
    "# To check correlation between the variables\n",
    "plt.figure(figsize=(15,5))\n",
    "sns.heatmap(df.corr(),annot=True)\n",
    "plt.show()\n",
    "print(\"The variables are not much correlated with each other\")"
   ]
  },
  {
   "cell_type": "code",
   "execution_count": 34,
   "metadata": {},
   "outputs": [
    {
     "data": {
      "text/html": [
       "<div>\n",
       "<style scoped>\n",
       "    .dataframe tbody tr th:only-of-type {\n",
       "        vertical-align: middle;\n",
       "    }\n",
       "\n",
       "    .dataframe tbody tr th {\n",
       "        vertical-align: top;\n",
       "    }\n",
       "\n",
       "    .dataframe thead th {\n",
       "        text-align: right;\n",
       "    }\n",
       "</style>\n",
       "<table border=\"1\" class=\"dataframe\">\n",
       "  <thead>\n",
       "    <tr style=\"text-align: right;\">\n",
       "      <th></th>\n",
       "      <th>Airline</th>\n",
       "      <th>Source</th>\n",
       "      <th>Destination</th>\n",
       "      <th>Route</th>\n",
       "      <th>Total_Stops</th>\n",
       "      <th>Additional_Info</th>\n",
       "      <th>Price</th>\n",
       "      <th>Day_of_Journey</th>\n",
       "      <th>Month_of_Journey</th>\n",
       "      <th>Dep_hr</th>\n",
       "      <th>Dep_min</th>\n",
       "      <th>Arrival_hr</th>\n",
       "      <th>Arrival_min</th>\n",
       "      <th>duration_hr</th>\n",
       "      <th>duration_min</th>\n",
       "    </tr>\n",
       "  </thead>\n",
       "  <tbody>\n",
       "    <tr>\n",
       "      <th>0</th>\n",
       "      <td>IndiGo</td>\n",
       "      <td>Banglore</td>\n",
       "      <td>Delhi</td>\n",
       "      <td>BLR → DEL</td>\n",
       "      <td>non-stop</td>\n",
       "      <td>No info</td>\n",
       "      <td>3897</td>\n",
       "      <td>24</td>\n",
       "      <td>3</td>\n",
       "      <td>22</td>\n",
       "      <td>20</td>\n",
       "      <td>1</td>\n",
       "      <td>10</td>\n",
       "      <td>2</td>\n",
       "      <td>50</td>\n",
       "    </tr>\n",
       "    <tr>\n",
       "      <th>1</th>\n",
       "      <td>Air India</td>\n",
       "      <td>Kolkata</td>\n",
       "      <td>Banglore</td>\n",
       "      <td>CCU → IXR → BBI → BLR</td>\n",
       "      <td>2 stops</td>\n",
       "      <td>No info</td>\n",
       "      <td>7662</td>\n",
       "      <td>5</td>\n",
       "      <td>1</td>\n",
       "      <td>5</td>\n",
       "      <td>50</td>\n",
       "      <td>13</td>\n",
       "      <td>15</td>\n",
       "      <td>7</td>\n",
       "      <td>25</td>\n",
       "    </tr>\n",
       "    <tr>\n",
       "      <th>2</th>\n",
       "      <td>Jet Airways</td>\n",
       "      <td>Delhi</td>\n",
       "      <td>Cochin</td>\n",
       "      <td>DEL → LKO → BOM → COK</td>\n",
       "      <td>2 stops</td>\n",
       "      <td>No info</td>\n",
       "      <td>13882</td>\n",
       "      <td>6</td>\n",
       "      <td>9</td>\n",
       "      <td>9</td>\n",
       "      <td>25</td>\n",
       "      <td>4</td>\n",
       "      <td>25</td>\n",
       "      <td>19</td>\n",
       "      <td>00</td>\n",
       "    </tr>\n",
       "    <tr>\n",
       "      <th>3</th>\n",
       "      <td>IndiGo</td>\n",
       "      <td>Kolkata</td>\n",
       "      <td>Banglore</td>\n",
       "      <td>CCU → NAG → BLR</td>\n",
       "      <td>1 stop</td>\n",
       "      <td>No info</td>\n",
       "      <td>6218</td>\n",
       "      <td>5</td>\n",
       "      <td>12</td>\n",
       "      <td>18</td>\n",
       "      <td>5</td>\n",
       "      <td>23</td>\n",
       "      <td>30</td>\n",
       "      <td>5</td>\n",
       "      <td>25</td>\n",
       "    </tr>\n",
       "    <tr>\n",
       "      <th>4</th>\n",
       "      <td>IndiGo</td>\n",
       "      <td>Banglore</td>\n",
       "      <td>Delhi</td>\n",
       "      <td>BLR → NAG → DEL</td>\n",
       "      <td>1 stop</td>\n",
       "      <td>No info</td>\n",
       "      <td>13302</td>\n",
       "      <td>3</td>\n",
       "      <td>1</td>\n",
       "      <td>16</td>\n",
       "      <td>50</td>\n",
       "      <td>21</td>\n",
       "      <td>35</td>\n",
       "      <td>4</td>\n",
       "      <td>45</td>\n",
       "    </tr>\n",
       "    <tr>\n",
       "      <th>5</th>\n",
       "      <td>SpiceJet</td>\n",
       "      <td>Kolkata</td>\n",
       "      <td>Banglore</td>\n",
       "      <td>CCU → BLR</td>\n",
       "      <td>non-stop</td>\n",
       "      <td>No info</td>\n",
       "      <td>3873</td>\n",
       "      <td>24</td>\n",
       "      <td>6</td>\n",
       "      <td>9</td>\n",
       "      <td>0</td>\n",
       "      <td>11</td>\n",
       "      <td>25</td>\n",
       "      <td>2</td>\n",
       "      <td>25</td>\n",
       "    </tr>\n",
       "    <tr>\n",
       "      <th>6</th>\n",
       "      <td>Jet Airways</td>\n",
       "      <td>Banglore</td>\n",
       "      <td>Delhi</td>\n",
       "      <td>BLR → BOM → DEL</td>\n",
       "      <td>1 stop</td>\n",
       "      <td>In-flight meal not included</td>\n",
       "      <td>11087</td>\n",
       "      <td>3</td>\n",
       "      <td>12</td>\n",
       "      <td>18</td>\n",
       "      <td>55</td>\n",
       "      <td>10</td>\n",
       "      <td>25</td>\n",
       "      <td>15</td>\n",
       "      <td>30</td>\n",
       "    </tr>\n",
       "    <tr>\n",
       "      <th>7</th>\n",
       "      <td>Jet Airways</td>\n",
       "      <td>Banglore</td>\n",
       "      <td>Delhi</td>\n",
       "      <td>BLR → BOM → DEL</td>\n",
       "      <td>1 stop</td>\n",
       "      <td>No info</td>\n",
       "      <td>22270</td>\n",
       "      <td>3</td>\n",
       "      <td>1</td>\n",
       "      <td>8</td>\n",
       "      <td>0</td>\n",
       "      <td>5</td>\n",
       "      <td>5</td>\n",
       "      <td>21</td>\n",
       "      <td>5</td>\n",
       "    </tr>\n",
       "    <tr>\n",
       "      <th>8</th>\n",
       "      <td>Jet Airways</td>\n",
       "      <td>Banglore</td>\n",
       "      <td>Delhi</td>\n",
       "      <td>BLR → BOM → DEL</td>\n",
       "      <td>1 stop</td>\n",
       "      <td>In-flight meal not included</td>\n",
       "      <td>11087</td>\n",
       "      <td>3</td>\n",
       "      <td>12</td>\n",
       "      <td>8</td>\n",
       "      <td>55</td>\n",
       "      <td>10</td>\n",
       "      <td>25</td>\n",
       "      <td>25</td>\n",
       "      <td>30</td>\n",
       "    </tr>\n",
       "    <tr>\n",
       "      <th>9</th>\n",
       "      <td>Multiple carriers</td>\n",
       "      <td>Delhi</td>\n",
       "      <td>Cochin</td>\n",
       "      <td>DEL → BOM → COK</td>\n",
       "      <td>1 stop</td>\n",
       "      <td>No info</td>\n",
       "      <td>8625</td>\n",
       "      <td>27</td>\n",
       "      <td>5</td>\n",
       "      <td>11</td>\n",
       "      <td>25</td>\n",
       "      <td>19</td>\n",
       "      <td>15</td>\n",
       "      <td>7</td>\n",
       "      <td>50</td>\n",
       "    </tr>\n",
       "  </tbody>\n",
       "</table>\n",
       "</div>"
      ],
      "text/plain": [
       "             Airline    Source Destination                  Route Total_Stops  \\\n",
       "0             IndiGo  Banglore       Delhi              BLR → DEL    non-stop   \n",
       "1          Air India   Kolkata    Banglore  CCU → IXR → BBI → BLR     2 stops   \n",
       "2        Jet Airways     Delhi      Cochin  DEL → LKO → BOM → COK     2 stops   \n",
       "3             IndiGo   Kolkata    Banglore        CCU → NAG → BLR      1 stop   \n",
       "4             IndiGo  Banglore       Delhi        BLR → NAG → DEL      1 stop   \n",
       "5           SpiceJet   Kolkata    Banglore              CCU → BLR    non-stop   \n",
       "6        Jet Airways  Banglore       Delhi        BLR → BOM → DEL      1 stop   \n",
       "7        Jet Airways  Banglore       Delhi        BLR → BOM → DEL      1 stop   \n",
       "8        Jet Airways  Banglore       Delhi        BLR → BOM → DEL      1 stop   \n",
       "9  Multiple carriers     Delhi      Cochin        DEL → BOM → COK      1 stop   \n",
       "\n",
       "               Additional_Info  Price  Day_of_Journey  Month_of_Journey  \\\n",
       "0                      No info   3897              24                 3   \n",
       "1                      No info   7662               5                 1   \n",
       "2                      No info  13882               6                 9   \n",
       "3                      No info   6218               5                12   \n",
       "4                      No info  13302               3                 1   \n",
       "5                      No info   3873              24                 6   \n",
       "6  In-flight meal not included  11087               3                12   \n",
       "7                      No info  22270               3                 1   \n",
       "8  In-flight meal not included  11087               3                12   \n",
       "9                      No info   8625              27                 5   \n",
       "\n",
       "   Dep_hr  Dep_min  Arrival_hr  Arrival_min duration_hr duration_min  \n",
       "0      22       20           1           10           2           50  \n",
       "1       5       50          13           15           7           25  \n",
       "2       9       25           4           25          19           00  \n",
       "3      18        5          23           30           5           25  \n",
       "4      16       50          21           35           4           45  \n",
       "5       9        0          11           25           2           25  \n",
       "6      18       55          10           25          15           30  \n",
       "7       8        0           5            5          21            5  \n",
       "8       8       55          10           25          25           30  \n",
       "9      11       25          19           15           7           50  "
      ]
     },
     "execution_count": 34,
     "metadata": {},
     "output_type": "execute_result"
    }
   ],
   "source": [
    "df.head(10)"
   ]
  },
  {
   "cell_type": "code",
   "execution_count": 35,
   "metadata": {},
   "outputs": [],
   "source": [
    "# Label Encoding\n",
    "df['Total_Stops']=df['Total_Stops'].map({'non-stop':0, '2 stops':2, '1 stop':1, '3 stops':3, '4 stops':4})"
   ]
  },
  {
   "cell_type": "code",
   "execution_count": 36,
   "metadata": {},
   "outputs": [],
   "source": [
    "# Label encoding using Label Encoder\n",
    "air_dummy=pd.get_dummies(df['Airline'],drop_first=True)\n",
    "source_dest_dummy=pd.get_dummies(df[['Source','Destination']],drop_first=True)\n",
    "df=pd.concat([air_dummy,source_dest_dummy,df],axis=1)"
   ]
  },
  {
   "cell_type": "code",
   "execution_count": 37,
   "metadata": {},
   "outputs": [],
   "source": [
    "# Dropping of the unnecesary column\n",
    "df.drop(['Airline','Source','Destination'],inplace=True,axis=1)"
   ]
  },
  {
   "cell_type": "code",
   "execution_count": 38,
   "metadata": {},
   "outputs": [],
   "source": [
    "# Separation of the Dependent and Independent variable\n",
    "x=df.drop(['Route', 'Price','Additional_Info'],axis=1)\n",
    "y=df['Price']"
   ]
  },
  {
   "cell_type": "code",
   "execution_count": 39,
   "metadata": {},
   "outputs": [
    {
     "data": {
      "text/html": [
       "<div>\n",
       "<style scoped>\n",
       "    .dataframe tbody tr th:only-of-type {\n",
       "        vertical-align: middle;\n",
       "    }\n",
       "\n",
       "    .dataframe tbody tr th {\n",
       "        vertical-align: top;\n",
       "    }\n",
       "\n",
       "    .dataframe thead th {\n",
       "        text-align: right;\n",
       "    }\n",
       "</style>\n",
       "<table border=\"1\" class=\"dataframe\">\n",
       "  <thead>\n",
       "    <tr style=\"text-align: right;\">\n",
       "      <th></th>\n",
       "      <th>Air India</th>\n",
       "      <th>GoAir</th>\n",
       "      <th>IndiGo</th>\n",
       "      <th>Jet Airways</th>\n",
       "      <th>Jet Airways Business</th>\n",
       "      <th>Multiple carriers</th>\n",
       "      <th>Multiple carriers Premium economy</th>\n",
       "      <th>SpiceJet</th>\n",
       "      <th>Trujet</th>\n",
       "      <th>Vistara</th>\n",
       "      <th>...</th>\n",
       "      <th>Destination_Kolkata</th>\n",
       "      <th>Total_Stops</th>\n",
       "      <th>Day_of_Journey</th>\n",
       "      <th>Month_of_Journey</th>\n",
       "      <th>Dep_hr</th>\n",
       "      <th>Dep_min</th>\n",
       "      <th>Arrival_hr</th>\n",
       "      <th>Arrival_min</th>\n",
       "      <th>duration_hr</th>\n",
       "      <th>duration_min</th>\n",
       "    </tr>\n",
       "  </thead>\n",
       "  <tbody>\n",
       "    <tr>\n",
       "      <th>0</th>\n",
       "      <td>0</td>\n",
       "      <td>0</td>\n",
       "      <td>1</td>\n",
       "      <td>0</td>\n",
       "      <td>0</td>\n",
       "      <td>0</td>\n",
       "      <td>0</td>\n",
       "      <td>0</td>\n",
       "      <td>0</td>\n",
       "      <td>0</td>\n",
       "      <td>...</td>\n",
       "      <td>0</td>\n",
       "      <td>0</td>\n",
       "      <td>24</td>\n",
       "      <td>3</td>\n",
       "      <td>22</td>\n",
       "      <td>20</td>\n",
       "      <td>1</td>\n",
       "      <td>10</td>\n",
       "      <td>2</td>\n",
       "      <td>50</td>\n",
       "    </tr>\n",
       "    <tr>\n",
       "      <th>1</th>\n",
       "      <td>1</td>\n",
       "      <td>0</td>\n",
       "      <td>0</td>\n",
       "      <td>0</td>\n",
       "      <td>0</td>\n",
       "      <td>0</td>\n",
       "      <td>0</td>\n",
       "      <td>0</td>\n",
       "      <td>0</td>\n",
       "      <td>0</td>\n",
       "      <td>...</td>\n",
       "      <td>0</td>\n",
       "      <td>2</td>\n",
       "      <td>5</td>\n",
       "      <td>1</td>\n",
       "      <td>5</td>\n",
       "      <td>50</td>\n",
       "      <td>13</td>\n",
       "      <td>15</td>\n",
       "      <td>7</td>\n",
       "      <td>25</td>\n",
       "    </tr>\n",
       "  </tbody>\n",
       "</table>\n",
       "<p>2 rows × 28 columns</p>\n",
       "</div>"
      ],
      "text/plain": [
       "   Air India  GoAir  IndiGo  Jet Airways  Jet Airways Business  \\\n",
       "0          0      0       1            0                     0   \n",
       "1          1      0       0            0                     0   \n",
       "\n",
       "   Multiple carriers  Multiple carriers Premium economy  SpiceJet  Trujet  \\\n",
       "0                  0                                  0         0       0   \n",
       "1                  0                                  0         0       0   \n",
       "\n",
       "   Vistara  ...  Destination_Kolkata  Total_Stops  Day_of_Journey  \\\n",
       "0        0  ...                    0            0              24   \n",
       "1        0  ...                    0            2               5   \n",
       "\n",
       "   Month_of_Journey  Dep_hr  Dep_min  Arrival_hr  Arrival_min  duration_hr  \\\n",
       "0                 3      22       20           1           10            2   \n",
       "1                 1       5       50          13           15            7   \n",
       "\n",
       "   duration_min  \n",
       "0            50  \n",
       "1            25  \n",
       "\n",
       "[2 rows x 28 columns]"
      ]
     },
     "execution_count": 39,
     "metadata": {},
     "output_type": "execute_result"
    }
   ],
   "source": [
    "x.head(2)"
   ]
  },
  {
   "cell_type": "code",
   "execution_count": 40,
   "metadata": {},
   "outputs": [
    {
     "data": {
      "text/plain": [
       "0         3897\n",
       "1         7662\n",
       "2        13882\n",
       "3         6218\n",
       "4        13302\n",
       "         ...  \n",
       "10678     4107\n",
       "10679     4145\n",
       "10680     7229\n",
       "10681    12648\n",
       "10682    11753\n",
       "Name: Price, Length: 10682, dtype: int64"
      ]
     },
     "execution_count": 40,
     "metadata": {},
     "output_type": "execute_result"
    }
   ],
   "source": [
    "y"
   ]
  },
  {
   "cell_type": "markdown",
   "metadata": {},
   "source": [
    "### Model building and hyperparameter tuning"
   ]
  },
  {
   "cell_type": "code",
   "execution_count": 41,
   "metadata": {},
   "outputs": [],
   "source": [
    "#splitting the dataset\n",
    "x_train, x_test, y_train, y_test = train_test_split(x, y, test_size = 0.25, random_state = 101)"
   ]
  },
  {
   "cell_type": "markdown",
   "metadata": {},
   "source": [
    "### LINEAR REGRESSION"
   ]
  },
  {
   "cell_type": "code",
   "execution_count": 42,
   "metadata": {},
   "outputs": [
    {
     "data": {
      "text/plain": [
       "LinearRegression(copy_X=True, fit_intercept=True, n_jobs=None, normalize=False)"
      ]
     },
     "execution_count": 42,
     "metadata": {},
     "output_type": "execute_result"
    }
   ],
   "source": [
    "model_lr = LinearRegression()\n",
    "model_lr.fit(x_train, y_train)"
   ]
  },
  {
   "cell_type": "code",
   "execution_count": 43,
   "metadata": {},
   "outputs": [
    {
     "name": "stdout",
     "output_type": "stream",
     "text": [
      "The model performance on train dataset: 0.6\n",
      "The model performance on test dataset: 0.59\n"
     ]
    }
   ],
   "source": [
    "print(f\"The model performance on train dataset: {round(model_lr.score(x_train, y_train),2)}\")\n",
    "print(f\"The model performance on test dataset: {round(model_lr.score(x_test, y_test),2)}\")"
   ]
  },
  {
   "cell_type": "markdown",
   "metadata": {},
   "source": [
    "The linear regression model performs poorly both on the train and test dataset, thus we will not use it and will try tree models."
   ]
  },
  {
   "cell_type": "markdown",
   "metadata": {},
   "source": [
    "### DECISION TREE"
   ]
  },
  {
   "cell_type": "code",
   "execution_count": 44,
   "metadata": {},
   "outputs": [
    {
     "data": {
      "text/plain": [
       "DecisionTreeRegressor(ccp_alpha=0.0, criterion='mse', max_depth=None,\n",
       "                      max_features=None, max_leaf_nodes=None,\n",
       "                      min_impurity_decrease=0.0, min_impurity_split=None,\n",
       "                      min_samples_leaf=1, min_samples_split=2,\n",
       "                      min_weight_fraction_leaf=0.0, presort='deprecated',\n",
       "                      random_state=None, splitter='best')"
      ]
     },
     "execution_count": 44,
     "metadata": {},
     "output_type": "execute_result"
    }
   ],
   "source": [
    "model_dt = DecisionTreeRegressor()\n",
    "model_dt.fit(x_train, y_train)"
   ]
  },
  {
   "cell_type": "code",
   "execution_count": 45,
   "metadata": {},
   "outputs": [
    {
     "name": "stdout",
     "output_type": "stream",
     "text": [
      "The model performance on train dataset: 0.97\n",
      "The model performance on test dataset: 0.71\n"
     ]
    }
   ],
   "source": [
    "print(f\"The model performance on train dataset: {round(model_dt.score(x_train, y_train),2)}\")\n",
    "print(f\"The model performance on test dataset: {round(model_dt.score(x_test, y_test),2)}\")"
   ]
  },
  {
   "cell_type": "markdown",
   "metadata": {},
   "source": [
    "The decision tree model as 97% score on the train dataset but achieves a score of only 72% on the test dataset, thus the model has overfitted. We can do hyperparameter tuning to reduce the overfitting, but for now let's try other models for better score."
   ]
  },
  {
   "cell_type": "markdown",
   "metadata": {},
   "source": [
    "### RANDOM FOREST REGRESSOR"
   ]
  },
  {
   "cell_type": "code",
   "execution_count": 46,
   "metadata": {},
   "outputs": [
    {
     "data": {
      "text/plain": [
       "RandomForestRegressor(bootstrap=True, ccp_alpha=0.0, criterion='mse',\n",
       "                      max_depth=None, max_features='auto', max_leaf_nodes=None,\n",
       "                      max_samples=None, min_impurity_decrease=0.0,\n",
       "                      min_impurity_split=None, min_samples_leaf=1,\n",
       "                      min_samples_split=2, min_weight_fraction_leaf=0.0,\n",
       "                      n_estimators=100, n_jobs=None, oob_score=False,\n",
       "                      random_state=None, verbose=0, warm_start=False)"
      ]
     },
     "execution_count": 46,
     "metadata": {},
     "output_type": "execute_result"
    }
   ],
   "source": [
    "model_rf = RandomForestRegressor()\n",
    "model_rf.fit(x_train, y_train)"
   ]
  },
  {
   "cell_type": "code",
   "execution_count": 47,
   "metadata": {},
   "outputs": [
    {
     "name": "stdout",
     "output_type": "stream",
     "text": [
      "The model performance on train dataset: 0.95\n",
      "The model performance on test dataset: 0.81\n"
     ]
    }
   ],
   "source": [
    "print(f\"The model performance on train dataset: {round(model_rf.score(x_train, y_train),2)}\")\n",
    "print(f\"The model performance on test dataset: {round(model_rf.score(x_test, y_test),2)}\")"
   ]
  },
  {
   "cell_type": "markdown",
   "metadata": {},
   "source": [
    "### EXTRA TREE REGRESSOR"
   ]
  },
  {
   "cell_type": "code",
   "execution_count": 48,
   "metadata": {},
   "outputs": [
    {
     "data": {
      "text/plain": [
       "ExtraTreesRegressor(bootstrap=False, ccp_alpha=0.0, criterion='mse',\n",
       "                    max_depth=None, max_features='auto', max_leaf_nodes=None,\n",
       "                    max_samples=None, min_impurity_decrease=0.0,\n",
       "                    min_impurity_split=None, min_samples_leaf=1,\n",
       "                    min_samples_split=2, min_weight_fraction_leaf=0.0,\n",
       "                    n_estimators=100, n_jobs=None, oob_score=False,\n",
       "                    random_state=None, verbose=0, warm_start=False)"
      ]
     },
     "execution_count": 48,
     "metadata": {},
     "output_type": "execute_result"
    }
   ],
   "source": [
    "model_et = ExtraTreesRegressor()\n",
    "model_et.fit(x_train, y_train)"
   ]
  },
  {
   "cell_type": "code",
   "execution_count": 49,
   "metadata": {},
   "outputs": [
    {
     "name": "stdout",
     "output_type": "stream",
     "text": [
      "The model performance on train dataset: 0.97\n",
      "The model performance on test dataset: 0.78\n"
     ]
    }
   ],
   "source": [
    "print(f\"The model performance on train dataset: {round(model_et.score(x_train, y_train),2)}\")\n",
    "print(f\"The model performance on test dataset: {round(model_et.score(x_test, y_test),2)}\")"
   ]
  },
  {
   "cell_type": "markdown",
   "metadata": {},
   "source": [
    "### CATBOOST REGRESSOR"
   ]
  },
  {
   "cell_type": "code",
   "execution_count": 50,
   "metadata": {},
   "outputs": [
    {
     "name": "stdout",
     "output_type": "stream",
     "text": [
      "Learning rate set to 0.05688\n",
      "0:\tlearn: 4458.2753538\ttotal: 141ms\tremaining: 2m 20s\n",
      "1:\tlearn: 4310.6689543\ttotal: 145ms\tremaining: 1m 12s\n",
      "2:\tlearn: 4177.3541948\ttotal: 149ms\tremaining: 49.5s\n",
      "3:\tlearn: 4047.5677970\ttotal: 155ms\tremaining: 38.6s\n",
      "4:\tlearn: 3924.4272927\ttotal: 160ms\tremaining: 31.9s\n",
      "5:\tlearn: 3813.8131138\ttotal: 167ms\tremaining: 27.7s\n",
      "6:\tlearn: 3709.3140912\ttotal: 173ms\tremaining: 24.5s\n",
      "7:\tlearn: 3613.5645103\ttotal: 178ms\tremaining: 22.1s\n",
      "8:\tlearn: 3527.7072628\ttotal: 183ms\tremaining: 20.1s\n",
      "9:\tlearn: 3462.1388263\ttotal: 186ms\tremaining: 18.4s\n",
      "10:\tlearn: 3380.3271831\ttotal: 189ms\tremaining: 17s\n",
      "11:\tlearn: 3310.9690763\ttotal: 192ms\tremaining: 15.8s\n",
      "12:\tlearn: 3241.3035367\ttotal: 195ms\tremaining: 14.8s\n",
      "13:\tlearn: 3177.7633322\ttotal: 199ms\tremaining: 14s\n",
      "14:\tlearn: 3119.9689243\ttotal: 202ms\tremaining: 13.2s\n",
      "15:\tlearn: 3067.9755495\ttotal: 205ms\tremaining: 12.6s\n",
      "16:\tlearn: 3017.5768632\ttotal: 208ms\tremaining: 12s\n",
      "17:\tlearn: 2973.4976375\ttotal: 211ms\tremaining: 11.5s\n",
      "18:\tlearn: 2926.1983354\ttotal: 214ms\tremaining: 11s\n",
      "19:\tlearn: 2887.6455098\ttotal: 216ms\tremaining: 10.6s\n",
      "20:\tlearn: 2851.8858981\ttotal: 219ms\tremaining: 10.2s\n",
      "21:\tlearn: 2822.0379631\ttotal: 222ms\tremaining: 9.87s\n",
      "22:\tlearn: 2788.8899602\ttotal: 226ms\tremaining: 9.59s\n",
      "23:\tlearn: 2761.3482909\ttotal: 229ms\tremaining: 9.3s\n",
      "24:\tlearn: 2731.6763402\ttotal: 232ms\tremaining: 9.04s\n",
      "25:\tlearn: 2700.4446581\ttotal: 235ms\tremaining: 8.79s\n",
      "26:\tlearn: 2676.0140642\ttotal: 239ms\tremaining: 8.61s\n",
      "27:\tlearn: 2653.8373611\ttotal: 242ms\tremaining: 8.38s\n",
      "28:\tlearn: 2628.8470189\ttotal: 245ms\tremaining: 8.19s\n",
      "29:\tlearn: 2607.0629560\ttotal: 247ms\tremaining: 8s\n",
      "30:\tlearn: 2587.7322817\ttotal: 250ms\tremaining: 7.82s\n",
      "31:\tlearn: 2569.6901737\ttotal: 254ms\tremaining: 7.68s\n",
      "32:\tlearn: 2555.3727648\ttotal: 257ms\tremaining: 7.53s\n",
      "33:\tlearn: 2540.2670143\ttotal: 260ms\tremaining: 7.39s\n",
      "34:\tlearn: 2527.1960719\ttotal: 263ms\tremaining: 7.24s\n",
      "35:\tlearn: 2512.3233434\ttotal: 266ms\tremaining: 7.11s\n",
      "36:\tlearn: 2500.4863259\ttotal: 269ms\tremaining: 7.01s\n",
      "37:\tlearn: 2484.2735499\ttotal: 272ms\tremaining: 6.9s\n",
      "38:\tlearn: 2469.4226866\ttotal: 276ms\tremaining: 6.8s\n",
      "39:\tlearn: 2458.8875117\ttotal: 281ms\tremaining: 6.75s\n",
      "40:\tlearn: 2450.8214230\ttotal: 285ms\tremaining: 6.68s\n",
      "41:\tlearn: 2437.6802911\ttotal: 288ms\tremaining: 6.58s\n",
      "42:\tlearn: 2426.2714766\ttotal: 291ms\tremaining: 6.48s\n",
      "43:\tlearn: 2416.0389671\ttotal: 294ms\tremaining: 6.38s\n",
      "44:\tlearn: 2409.1118161\ttotal: 297ms\tremaining: 6.31s\n",
      "45:\tlearn: 2398.9382973\ttotal: 301ms\tremaining: 6.23s\n",
      "46:\tlearn: 2391.7792048\ttotal: 303ms\tremaining: 6.15s\n",
      "47:\tlearn: 2383.7366235\ttotal: 306ms\tremaining: 6.07s\n",
      "48:\tlearn: 2374.6503833\ttotal: 310ms\tremaining: 6.01s\n",
      "49:\tlearn: 2365.9127950\ttotal: 313ms\tremaining: 5.95s\n",
      "50:\tlearn: 2355.0976141\ttotal: 317ms\tremaining: 5.9s\n",
      "51:\tlearn: 2349.0837491\ttotal: 321ms\tremaining: 5.86s\n",
      "52:\tlearn: 2343.6695148\ttotal: 325ms\tremaining: 5.81s\n",
      "53:\tlearn: 2337.3836905\ttotal: 329ms\tremaining: 5.75s\n",
      "54:\tlearn: 2332.4998204\ttotal: 332ms\tremaining: 5.7s\n",
      "55:\tlearn: 2327.4946872\ttotal: 335ms\tremaining: 5.64s\n",
      "56:\tlearn: 2324.9285309\ttotal: 358ms\tremaining: 5.91s\n",
      "57:\tlearn: 2320.2403403\ttotal: 360ms\tremaining: 5.85s\n",
      "58:\tlearn: 2314.5039653\ttotal: 363ms\tremaining: 5.79s\n",
      "59:\tlearn: 2311.7548004\ttotal: 366ms\tremaining: 5.73s\n",
      "60:\tlearn: 2304.5477757\ttotal: 391ms\tremaining: 6.02s\n",
      "61:\tlearn: 2299.3497977\ttotal: 396ms\tremaining: 5.98s\n",
      "62:\tlearn: 2292.5285043\ttotal: 428ms\tremaining: 6.36s\n",
      "63:\tlearn: 2287.2088121\ttotal: 435ms\tremaining: 6.36s\n",
      "64:\tlearn: 2283.7280438\ttotal: 440ms\tremaining: 6.33s\n",
      "65:\tlearn: 2280.7759865\ttotal: 444ms\tremaining: 6.29s\n",
      "66:\tlearn: 2278.0324526\ttotal: 449ms\tremaining: 6.25s\n",
      "67:\tlearn: 2270.9531534\ttotal: 452ms\tremaining: 6.2s\n",
      "68:\tlearn: 2264.4821663\ttotal: 456ms\tremaining: 6.16s\n",
      "69:\tlearn: 2260.1495393\ttotal: 460ms\tremaining: 6.11s\n",
      "70:\tlearn: 2251.3154771\ttotal: 464ms\tremaining: 6.08s\n",
      "71:\tlearn: 2244.3606774\ttotal: 468ms\tremaining: 6.04s\n",
      "72:\tlearn: 2238.0821143\ttotal: 473ms\tremaining: 6s\n",
      "73:\tlearn: 2233.8875391\ttotal: 476ms\tremaining: 5.96s\n",
      "74:\tlearn: 2231.1629471\ttotal: 480ms\tremaining: 5.92s\n",
      "75:\tlearn: 2228.5586110\ttotal: 484ms\tremaining: 5.88s\n",
      "76:\tlearn: 2224.1278105\ttotal: 488ms\tremaining: 5.84s\n",
      "77:\tlearn: 2220.5726408\ttotal: 491ms\tremaining: 5.81s\n",
      "78:\tlearn: 2215.5816876\ttotal: 496ms\tremaining: 5.78s\n",
      "79:\tlearn: 2210.1919887\ttotal: 500ms\tremaining: 5.75s\n",
      "80:\tlearn: 2206.7443015\ttotal: 503ms\tremaining: 5.71s\n",
      "81:\tlearn: 2204.0716850\ttotal: 507ms\tremaining: 5.68s\n",
      "82:\tlearn: 2201.5596530\ttotal: 511ms\tremaining: 5.64s\n",
      "83:\tlearn: 2196.8775042\ttotal: 514ms\tremaining: 5.61s\n",
      "84:\tlearn: 2192.4286163\ttotal: 518ms\tremaining: 5.57s\n",
      "85:\tlearn: 2188.4502012\ttotal: 522ms\tremaining: 5.55s\n",
      "86:\tlearn: 2182.5876169\ttotal: 526ms\tremaining: 5.51s\n",
      "87:\tlearn: 2179.6543486\ttotal: 529ms\tremaining: 5.48s\n",
      "88:\tlearn: 2174.3397645\ttotal: 532ms\tremaining: 5.45s\n",
      "89:\tlearn: 2169.1733917\ttotal: 536ms\tremaining: 5.42s\n",
      "90:\tlearn: 2163.7754897\ttotal: 540ms\tremaining: 5.39s\n",
      "91:\tlearn: 2161.6459440\ttotal: 543ms\tremaining: 5.36s\n",
      "92:\tlearn: 2156.2705407\ttotal: 548ms\tremaining: 5.34s\n",
      "93:\tlearn: 2153.3965746\ttotal: 553ms\tremaining: 5.33s\n",
      "94:\tlearn: 2149.0291300\ttotal: 557ms\tremaining: 5.3s\n",
      "95:\tlearn: 2144.3855151\ttotal: 561ms\tremaining: 5.28s\n",
      "96:\tlearn: 2141.5945266\ttotal: 564ms\tremaining: 5.25s\n",
      "97:\tlearn: 2138.3211515\ttotal: 569ms\tremaining: 5.24s\n",
      "98:\tlearn: 2135.5037301\ttotal: 572ms\tremaining: 5.2s\n",
      "99:\tlearn: 2131.9033960\ttotal: 575ms\tremaining: 5.18s\n",
      "100:\tlearn: 2130.9564521\ttotal: 582ms\tremaining: 5.18s\n",
      "101:\tlearn: 2128.6151122\ttotal: 586ms\tremaining: 5.15s\n",
      "102:\tlearn: 2125.6354620\ttotal: 589ms\tremaining: 5.13s\n",
      "103:\tlearn: 2123.8032154\ttotal: 593ms\tremaining: 5.11s\n",
      "104:\tlearn: 2120.8749709\ttotal: 598ms\tremaining: 5.1s\n",
      "105:\tlearn: 2119.4564257\ttotal: 601ms\tremaining: 5.07s\n",
      "106:\tlearn: 2116.0741565\ttotal: 604ms\tremaining: 5.04s\n",
      "107:\tlearn: 2111.4819963\ttotal: 609ms\tremaining: 5.03s\n",
      "108:\tlearn: 2107.1089578\ttotal: 615ms\tremaining: 5.02s\n",
      "109:\tlearn: 2105.0387613\ttotal: 618ms\tremaining: 5s\n",
      "110:\tlearn: 2103.1340894\ttotal: 628ms\tremaining: 5.03s\n",
      "111:\tlearn: 2100.6186906\ttotal: 633ms\tremaining: 5.02s\n",
      "112:\tlearn: 2097.0903737\ttotal: 645ms\tremaining: 5.06s\n",
      "113:\tlearn: 2093.7529007\ttotal: 650ms\tremaining: 5.05s\n",
      "114:\tlearn: 2091.1686756\ttotal: 661ms\tremaining: 5.09s\n",
      "115:\tlearn: 2090.0239490\ttotal: 673ms\tremaining: 5.13s\n",
      "116:\tlearn: 2086.1195349\ttotal: 678ms\tremaining: 5.12s\n",
      "117:\tlearn: 2082.8742520\ttotal: 682ms\tremaining: 5.1s\n",
      "118:\tlearn: 2080.7961340\ttotal: 686ms\tremaining: 5.08s\n",
      "119:\tlearn: 2077.8554300\ttotal: 690ms\tremaining: 5.06s\n",
      "120:\tlearn: 2075.4201904\ttotal: 693ms\tremaining: 5.03s\n",
      "121:\tlearn: 2075.1777125\ttotal: 695ms\tremaining: 5s\n",
      "122:\tlearn: 2071.9125707\ttotal: 698ms\tremaining: 4.98s\n",
      "123:\tlearn: 2070.3607990\ttotal: 702ms\tremaining: 4.96s\n",
      "124:\tlearn: 2067.5313347\ttotal: 705ms\tremaining: 4.93s\n",
      "125:\tlearn: 2065.4570471\ttotal: 708ms\tremaining: 4.91s\n",
      "126:\tlearn: 2063.2995619\ttotal: 710ms\tremaining: 4.88s\n",
      "127:\tlearn: 2060.0376156\ttotal: 713ms\tremaining: 4.86s\n",
      "128:\tlearn: 2058.0418852\ttotal: 718ms\tremaining: 4.85s\n",
      "129:\tlearn: 2054.3634765\ttotal: 721ms\tremaining: 4.82s\n",
      "130:\tlearn: 2050.7100510\ttotal: 723ms\tremaining: 4.8s\n",
      "131:\tlearn: 2045.8116183\ttotal: 727ms\tremaining: 4.78s\n",
      "132:\tlearn: 2043.8057627\ttotal: 730ms\tremaining: 4.76s\n",
      "133:\tlearn: 2042.4925754\ttotal: 733ms\tremaining: 4.74s\n",
      "134:\tlearn: 2040.9788509\ttotal: 736ms\tremaining: 4.72s\n",
      "135:\tlearn: 2037.3688066\ttotal: 739ms\tremaining: 4.7s\n",
      "136:\tlearn: 2033.5142006\ttotal: 742ms\tremaining: 4.67s\n",
      "137:\tlearn: 2031.7172724\ttotal: 747ms\tremaining: 4.66s\n",
      "138:\tlearn: 2028.3685816\ttotal: 750ms\tremaining: 4.64s\n",
      "139:\tlearn: 2026.1127664\ttotal: 753ms\tremaining: 4.62s\n",
      "140:\tlearn: 2023.5932839\ttotal: 756ms\tremaining: 4.6s\n",
      "141:\tlearn: 2021.4547104\ttotal: 759ms\tremaining: 4.58s\n",
      "142:\tlearn: 2020.2385185\ttotal: 762ms\tremaining: 4.57s\n",
      "143:\tlearn: 2018.9018869\ttotal: 765ms\tremaining: 4.54s\n",
      "144:\tlearn: 2018.0834840\ttotal: 768ms\tremaining: 4.53s\n",
      "145:\tlearn: 2015.8336678\ttotal: 770ms\tremaining: 4.51s\n",
      "146:\tlearn: 2013.8501090\ttotal: 774ms\tremaining: 4.49s\n",
      "147:\tlearn: 2011.9104665\ttotal: 777ms\tremaining: 4.47s\n",
      "148:\tlearn: 2009.4586211\ttotal: 780ms\tremaining: 4.45s\n",
      "149:\tlearn: 2009.2835089\ttotal: 782ms\tremaining: 4.43s\n",
      "150:\tlearn: 2007.5716142\ttotal: 786ms\tremaining: 4.42s\n",
      "151:\tlearn: 2007.0624544\ttotal: 789ms\tremaining: 4.4s\n",
      "152:\tlearn: 2004.8488832\ttotal: 792ms\tremaining: 4.38s\n",
      "153:\tlearn: 2003.2386077\ttotal: 795ms\tremaining: 4.37s\n",
      "154:\tlearn: 1999.5478997\ttotal: 798ms\tremaining: 4.35s\n",
      "155:\tlearn: 1997.8994338\ttotal: 800ms\tremaining: 4.33s\n",
      "156:\tlearn: 1994.6676617\ttotal: 804ms\tremaining: 4.32s\n",
      "157:\tlearn: 1993.1002340\ttotal: 806ms\tremaining: 4.3s\n"
     ]
    },
    {
     "name": "stdout",
     "output_type": "stream",
     "text": [
      "158:\tlearn: 1990.3874106\ttotal: 811ms\tremaining: 4.29s\n",
      "159:\tlearn: 1986.5025514\ttotal: 814ms\tremaining: 4.27s\n",
      "160:\tlearn: 1983.8879627\ttotal: 817ms\tremaining: 4.26s\n",
      "161:\tlearn: 1982.4481409\ttotal: 820ms\tremaining: 4.24s\n",
      "162:\tlearn: 1981.1057485\ttotal: 823ms\tremaining: 4.22s\n",
      "163:\tlearn: 1977.7619912\ttotal: 826ms\tremaining: 4.21s\n",
      "164:\tlearn: 1976.2798897\ttotal: 828ms\tremaining: 4.19s\n",
      "165:\tlearn: 1974.2231070\ttotal: 831ms\tremaining: 4.18s\n",
      "166:\tlearn: 1971.7310486\ttotal: 834ms\tremaining: 4.16s\n",
      "167:\tlearn: 1971.0945644\ttotal: 837ms\tremaining: 4.14s\n",
      "168:\tlearn: 1968.9532560\ttotal: 840ms\tremaining: 4.13s\n",
      "169:\tlearn: 1966.7911659\ttotal: 843ms\tremaining: 4.11s\n",
      "170:\tlearn: 1965.7081749\ttotal: 846ms\tremaining: 4.1s\n",
      "171:\tlearn: 1963.7528256\ttotal: 849ms\tremaining: 4.09s\n",
      "172:\tlearn: 1961.2270959\ttotal: 852ms\tremaining: 4.07s\n",
      "173:\tlearn: 1959.0023730\ttotal: 855ms\tremaining: 4.06s\n",
      "174:\tlearn: 1957.1641714\ttotal: 858ms\tremaining: 4.04s\n",
      "175:\tlearn: 1956.3256158\ttotal: 861ms\tremaining: 4.03s\n",
      "176:\tlearn: 1953.9536092\ttotal: 864ms\tremaining: 4.02s\n",
      "177:\tlearn: 1952.6235190\ttotal: 867ms\tremaining: 4s\n",
      "178:\tlearn: 1949.5813306\ttotal: 870ms\tremaining: 3.99s\n",
      "179:\tlearn: 1947.3200274\ttotal: 873ms\tremaining: 3.98s\n",
      "180:\tlearn: 1945.9874272\ttotal: 876ms\tremaining: 3.96s\n",
      "181:\tlearn: 1944.1057495\ttotal: 879ms\tremaining: 3.95s\n",
      "182:\tlearn: 1942.1846512\ttotal: 883ms\tremaining: 3.94s\n",
      "183:\tlearn: 1940.8880876\ttotal: 886ms\tremaining: 3.93s\n",
      "184:\tlearn: 1938.5441351\ttotal: 890ms\tremaining: 3.92s\n",
      "185:\tlearn: 1936.0828978\ttotal: 894ms\tremaining: 3.91s\n",
      "186:\tlearn: 1935.1570373\ttotal: 898ms\tremaining: 3.9s\n",
      "187:\tlearn: 1934.3631837\ttotal: 902ms\tremaining: 3.89s\n",
      "188:\tlearn: 1933.4691823\ttotal: 905ms\tremaining: 3.88s\n",
      "189:\tlearn: 1931.7171099\ttotal: 909ms\tremaining: 3.88s\n",
      "190:\tlearn: 1929.1568374\ttotal: 913ms\tremaining: 3.87s\n",
      "191:\tlearn: 1927.5625678\ttotal: 916ms\tremaining: 3.86s\n",
      "192:\tlearn: 1924.7254493\ttotal: 920ms\tremaining: 3.85s\n",
      "193:\tlearn: 1923.3407910\ttotal: 923ms\tremaining: 3.83s\n",
      "194:\tlearn: 1922.6403477\ttotal: 926ms\tremaining: 3.82s\n",
      "195:\tlearn: 1921.5718115\ttotal: 929ms\tremaining: 3.81s\n",
      "196:\tlearn: 1918.7162602\ttotal: 932ms\tremaining: 3.8s\n",
      "197:\tlearn: 1918.0599546\ttotal: 935ms\tremaining: 3.79s\n",
      "198:\tlearn: 1915.3213143\ttotal: 938ms\tremaining: 3.77s\n",
      "199:\tlearn: 1914.4237292\ttotal: 941ms\tremaining: 3.76s\n",
      "200:\tlearn: 1914.0321083\ttotal: 943ms\tremaining: 3.75s\n",
      "201:\tlearn: 1913.2064999\ttotal: 946ms\tremaining: 3.74s\n",
      "202:\tlearn: 1911.8656987\ttotal: 950ms\tremaining: 3.73s\n",
      "203:\tlearn: 1909.1288254\ttotal: 953ms\tremaining: 3.72s\n",
      "204:\tlearn: 1907.7522053\ttotal: 956ms\tremaining: 3.71s\n",
      "205:\tlearn: 1905.4869098\ttotal: 959ms\tremaining: 3.7s\n",
      "206:\tlearn: 1904.7259599\ttotal: 962ms\tremaining: 3.69s\n",
      "207:\tlearn: 1903.4712157\ttotal: 965ms\tremaining: 3.67s\n",
      "208:\tlearn: 1902.8768448\ttotal: 967ms\tremaining: 3.66s\n",
      "209:\tlearn: 1901.7322340\ttotal: 970ms\tremaining: 3.65s\n",
      "210:\tlearn: 1899.8158971\ttotal: 1.01s\tremaining: 3.77s\n",
      "211:\tlearn: 1897.9743603\ttotal: 1.02s\tremaining: 3.79s\n",
      "212:\tlearn: 1895.7221086\ttotal: 1.03s\tremaining: 3.81s\n",
      "213:\tlearn: 1895.2821461\ttotal: 1.04s\tremaining: 3.83s\n",
      "214:\tlearn: 1893.4288357\ttotal: 1.05s\tremaining: 3.85s\n",
      "215:\tlearn: 1891.0133247\ttotal: 1.06s\tremaining: 3.85s\n",
      "216:\tlearn: 1889.2110400\ttotal: 1.07s\tremaining: 3.85s\n",
      "217:\tlearn: 1886.5842763\ttotal: 1.08s\tremaining: 3.86s\n",
      "218:\tlearn: 1884.5145723\ttotal: 1.08s\tremaining: 3.87s\n",
      "219:\tlearn: 1882.9098184\ttotal: 1.09s\tremaining: 3.86s\n",
      "220:\tlearn: 1880.6675127\ttotal: 1.09s\tremaining: 3.85s\n",
      "221:\tlearn: 1878.6573576\ttotal: 1.1s\tremaining: 3.84s\n",
      "222:\tlearn: 1877.9672735\ttotal: 1.1s\tremaining: 3.83s\n",
      "223:\tlearn: 1875.9827088\ttotal: 1.1s\tremaining: 3.83s\n",
      "224:\tlearn: 1874.0830307\ttotal: 1.11s\tremaining: 3.82s\n",
      "225:\tlearn: 1873.0330636\ttotal: 1.11s\tremaining: 3.81s\n",
      "226:\tlearn: 1871.0393749\ttotal: 1.12s\tremaining: 3.8s\n",
      "227:\tlearn: 1870.7978680\ttotal: 1.12s\tremaining: 3.79s\n",
      "228:\tlearn: 1869.3473634\ttotal: 1.12s\tremaining: 3.78s\n",
      "229:\tlearn: 1868.7520438\ttotal: 1.13s\tremaining: 3.77s\n",
      "230:\tlearn: 1866.6451998\ttotal: 1.13s\tremaining: 3.77s\n",
      "231:\tlearn: 1865.5003572\ttotal: 1.13s\tremaining: 3.76s\n",
      "232:\tlearn: 1864.2508419\ttotal: 1.14s\tremaining: 3.75s\n",
      "233:\tlearn: 1860.8385815\ttotal: 1.14s\tremaining: 3.74s\n",
      "234:\tlearn: 1860.2896617\ttotal: 1.15s\tremaining: 3.73s\n",
      "235:\tlearn: 1858.0506212\ttotal: 1.15s\tremaining: 3.72s\n",
      "236:\tlearn: 1857.3476680\ttotal: 1.15s\tremaining: 3.71s\n",
      "237:\tlearn: 1855.1032422\ttotal: 1.16s\tremaining: 3.71s\n",
      "238:\tlearn: 1853.5195034\ttotal: 1.16s\tremaining: 3.7s\n",
      "239:\tlearn: 1851.9498770\ttotal: 1.17s\tremaining: 3.69s\n",
      "240:\tlearn: 1850.4492595\ttotal: 1.17s\tremaining: 3.68s\n",
      "241:\tlearn: 1850.0465157\ttotal: 1.17s\tremaining: 3.67s\n",
      "242:\tlearn: 1849.7635943\ttotal: 1.18s\tremaining: 3.66s\n",
      "243:\tlearn: 1848.9266348\ttotal: 1.18s\tremaining: 3.65s\n",
      "244:\tlearn: 1848.7552928\ttotal: 1.18s\tremaining: 3.65s\n",
      "245:\tlearn: 1847.6848366\ttotal: 1.19s\tremaining: 3.64s\n",
      "246:\tlearn: 1844.7658663\ttotal: 1.19s\tremaining: 3.63s\n",
      "247:\tlearn: 1843.0912425\ttotal: 1.19s\tremaining: 3.62s\n",
      "248:\tlearn: 1839.9080395\ttotal: 1.2s\tremaining: 3.61s\n",
      "249:\tlearn: 1838.8157053\ttotal: 1.2s\tremaining: 3.6s\n",
      "250:\tlearn: 1837.0790177\ttotal: 1.2s\tremaining: 3.59s\n",
      "251:\tlearn: 1836.3867335\ttotal: 1.21s\tremaining: 3.58s\n",
      "252:\tlearn: 1834.5590864\ttotal: 1.21s\tremaining: 3.57s\n",
      "253:\tlearn: 1832.8192461\ttotal: 1.21s\tremaining: 3.56s\n",
      "254:\tlearn: 1831.3407758\ttotal: 1.21s\tremaining: 3.55s\n",
      "255:\tlearn: 1829.2763525\ttotal: 1.22s\tremaining: 3.54s\n",
      "256:\tlearn: 1827.5174219\ttotal: 1.22s\tremaining: 3.53s\n",
      "257:\tlearn: 1825.7265380\ttotal: 1.22s\tremaining: 3.52s\n",
      "258:\tlearn: 1823.9758534\ttotal: 1.23s\tremaining: 3.51s\n",
      "259:\tlearn: 1821.7940427\ttotal: 1.23s\tremaining: 3.5s\n",
      "260:\tlearn: 1820.3111608\ttotal: 1.23s\tremaining: 3.49s\n",
      "261:\tlearn: 1818.2741852\ttotal: 1.24s\tremaining: 3.49s\n",
      "262:\tlearn: 1816.6975566\ttotal: 1.24s\tremaining: 3.48s\n",
      "263:\tlearn: 1815.8680831\ttotal: 1.24s\tremaining: 3.47s\n",
      "264:\tlearn: 1814.3775310\ttotal: 1.25s\tremaining: 3.46s\n",
      "265:\tlearn: 1812.9426139\ttotal: 1.25s\tremaining: 3.45s\n",
      "266:\tlearn: 1811.9914176\ttotal: 1.25s\tremaining: 3.44s\n",
      "267:\tlearn: 1811.1238418\ttotal: 1.25s\tremaining: 3.43s\n",
      "268:\tlearn: 1809.7551864\ttotal: 1.26s\tremaining: 3.42s\n",
      "269:\tlearn: 1808.4365393\ttotal: 1.26s\tremaining: 3.41s\n",
      "270:\tlearn: 1806.3346974\ttotal: 1.26s\tremaining: 3.4s\n",
      "271:\tlearn: 1804.7127785\ttotal: 1.27s\tremaining: 3.39s\n",
      "272:\tlearn: 1803.2970972\ttotal: 1.27s\tremaining: 3.38s\n",
      "273:\tlearn: 1802.0351666\ttotal: 1.27s\tremaining: 3.37s\n",
      "274:\tlearn: 1800.4366096\ttotal: 1.28s\tremaining: 3.37s\n",
      "275:\tlearn: 1798.5199742\ttotal: 1.28s\tremaining: 3.36s\n",
      "276:\tlearn: 1797.3085160\ttotal: 1.28s\tremaining: 3.35s\n",
      "277:\tlearn: 1795.6479653\ttotal: 1.28s\tremaining: 3.34s\n",
      "278:\tlearn: 1794.4489507\ttotal: 1.29s\tremaining: 3.33s\n",
      "279:\tlearn: 1792.6645168\ttotal: 1.29s\tremaining: 3.32s\n",
      "280:\tlearn: 1791.4677207\ttotal: 1.29s\tremaining: 3.31s\n",
      "281:\tlearn: 1789.6530184\ttotal: 1.3s\tremaining: 3.3s\n",
      "282:\tlearn: 1787.8117577\ttotal: 1.3s\tremaining: 3.29s\n",
      "283:\tlearn: 1786.2625824\ttotal: 1.3s\tremaining: 3.28s\n",
      "284:\tlearn: 1785.5425779\ttotal: 1.3s\tremaining: 3.27s\n",
      "285:\tlearn: 1783.6180285\ttotal: 1.31s\tremaining: 3.27s\n",
      "286:\tlearn: 1782.6833459\ttotal: 1.31s\tremaining: 3.26s\n",
      "287:\tlearn: 1781.2480875\ttotal: 1.31s\tremaining: 3.25s\n",
      "288:\tlearn: 1779.4187451\ttotal: 1.32s\tremaining: 3.24s\n",
      "289:\tlearn: 1777.8809415\ttotal: 1.32s\tremaining: 3.23s\n",
      "290:\tlearn: 1776.5845125\ttotal: 1.32s\tremaining: 3.22s\n",
      "291:\tlearn: 1775.3094797\ttotal: 1.32s\tremaining: 3.21s\n",
      "292:\tlearn: 1773.9130590\ttotal: 1.33s\tremaining: 3.21s\n",
      "293:\tlearn: 1773.4157284\ttotal: 1.33s\tremaining: 3.2s\n",
      "294:\tlearn: 1773.2657767\ttotal: 1.34s\tremaining: 3.2s\n",
      "295:\tlearn: 1771.9732388\ttotal: 1.34s\tremaining: 3.19s\n",
      "296:\tlearn: 1771.5277813\ttotal: 1.34s\tremaining: 3.18s\n",
      "297:\tlearn: 1770.2601976\ttotal: 1.35s\tremaining: 3.18s\n",
      "298:\tlearn: 1769.0202076\ttotal: 1.35s\tremaining: 3.17s\n",
      "299:\tlearn: 1767.9049050\ttotal: 1.35s\tremaining: 3.16s\n",
      "300:\tlearn: 1766.4015139\ttotal: 1.36s\tremaining: 3.15s\n",
      "301:\tlearn: 1764.8873237\ttotal: 1.36s\tremaining: 3.15s\n",
      "302:\tlearn: 1762.9599087\ttotal: 1.37s\tremaining: 3.14s\n",
      "303:\tlearn: 1761.5260822\ttotal: 1.37s\tremaining: 3.13s\n",
      "304:\tlearn: 1760.3800794\ttotal: 1.37s\tremaining: 3.13s\n",
      "305:\tlearn: 1758.2680939\ttotal: 1.38s\tremaining: 3.12s\n",
      "306:\tlearn: 1757.8742844\ttotal: 1.38s\tremaining: 3.12s\n",
      "307:\tlearn: 1756.2638969\ttotal: 1.38s\tremaining: 3.11s\n",
      "308:\tlearn: 1755.5938625\ttotal: 1.39s\tremaining: 3.11s\n",
      "309:\tlearn: 1754.9031497\ttotal: 1.39s\tremaining: 3.1s\n",
      "310:\tlearn: 1753.7386911\ttotal: 1.4s\tremaining: 3.09s\n"
     ]
    },
    {
     "name": "stdout",
     "output_type": "stream",
     "text": [
      "311:\tlearn: 1752.5643273\ttotal: 1.4s\tremaining: 3.09s\n",
      "312:\tlearn: 1751.9294876\ttotal: 1.41s\tremaining: 3.08s\n",
      "313:\tlearn: 1750.4766073\ttotal: 1.41s\tremaining: 3.08s\n",
      "314:\tlearn: 1749.3959895\ttotal: 1.41s\tremaining: 3.07s\n",
      "315:\tlearn: 1748.6001298\ttotal: 1.42s\tremaining: 3.06s\n",
      "316:\tlearn: 1747.2936283\ttotal: 1.42s\tremaining: 3.06s\n",
      "317:\tlearn: 1746.5642108\ttotal: 1.42s\tremaining: 3.05s\n",
      "318:\tlearn: 1745.8459188\ttotal: 1.43s\tremaining: 3.05s\n",
      "319:\tlearn: 1744.4676297\ttotal: 1.43s\tremaining: 3.04s\n",
      "320:\tlearn: 1743.4857006\ttotal: 1.43s\tremaining: 3.03s\n",
      "321:\tlearn: 1741.9782636\ttotal: 1.44s\tremaining: 3.03s\n",
      "322:\tlearn: 1740.9080046\ttotal: 1.44s\tremaining: 3.02s\n",
      "323:\tlearn: 1740.1024000\ttotal: 1.45s\tremaining: 3.02s\n",
      "324:\tlearn: 1739.2601807\ttotal: 1.45s\tremaining: 3.01s\n",
      "325:\tlearn: 1737.7422208\ttotal: 1.46s\tremaining: 3.01s\n",
      "326:\tlearn: 1737.0726234\ttotal: 1.46s\tremaining: 3s\n",
      "327:\tlearn: 1735.8867194\ttotal: 1.46s\tremaining: 3s\n",
      "328:\tlearn: 1735.0547172\ttotal: 1.47s\tremaining: 2.99s\n",
      "329:\tlearn: 1734.5921174\ttotal: 1.47s\tremaining: 2.98s\n",
      "330:\tlearn: 1733.3022818\ttotal: 1.47s\tremaining: 2.98s\n",
      "331:\tlearn: 1732.1003350\ttotal: 1.48s\tremaining: 2.97s\n",
      "332:\tlearn: 1730.7564555\ttotal: 1.48s\tremaining: 2.96s\n",
      "333:\tlearn: 1729.1704765\ttotal: 1.48s\tremaining: 2.96s\n",
      "334:\tlearn: 1728.4364756\ttotal: 1.49s\tremaining: 2.95s\n",
      "335:\tlearn: 1727.7369790\ttotal: 1.49s\tremaining: 2.94s\n",
      "336:\tlearn: 1726.5732082\ttotal: 1.49s\tremaining: 2.94s\n",
      "337:\tlearn: 1726.1620058\ttotal: 1.5s\tremaining: 2.93s\n",
      "338:\tlearn: 1725.5001397\ttotal: 1.5s\tremaining: 2.92s\n",
      "339:\tlearn: 1725.1224837\ttotal: 1.5s\tremaining: 2.92s\n",
      "340:\tlearn: 1724.5719726\ttotal: 1.51s\tremaining: 2.91s\n",
      "341:\tlearn: 1724.1290252\ttotal: 1.51s\tremaining: 2.91s\n",
      "342:\tlearn: 1723.2196549\ttotal: 1.51s\tremaining: 2.9s\n",
      "343:\tlearn: 1722.4136947\ttotal: 1.52s\tremaining: 2.9s\n",
      "344:\tlearn: 1721.7299189\ttotal: 1.52s\tremaining: 2.89s\n",
      "345:\tlearn: 1720.3158424\ttotal: 1.52s\tremaining: 2.88s\n",
      "346:\tlearn: 1719.1705764\ttotal: 1.53s\tremaining: 2.88s\n",
      "347:\tlearn: 1719.0432580\ttotal: 1.53s\tremaining: 2.87s\n",
      "348:\tlearn: 1718.2889228\ttotal: 1.54s\tremaining: 2.87s\n",
      "349:\tlearn: 1716.5989984\ttotal: 1.54s\tremaining: 2.86s\n",
      "350:\tlearn: 1715.4421809\ttotal: 1.54s\tremaining: 2.85s\n",
      "351:\tlearn: 1714.1941380\ttotal: 1.55s\tremaining: 2.85s\n",
      "352:\tlearn: 1713.0341456\ttotal: 1.55s\tremaining: 2.84s\n",
      "353:\tlearn: 1711.7702032\ttotal: 1.55s\tremaining: 2.84s\n",
      "354:\tlearn: 1710.4981626\ttotal: 1.56s\tremaining: 2.83s\n",
      "355:\tlearn: 1709.7528546\ttotal: 1.56s\tremaining: 2.83s\n",
      "356:\tlearn: 1708.2907315\ttotal: 1.57s\tremaining: 2.82s\n",
      "357:\tlearn: 1707.2426286\ttotal: 1.57s\tremaining: 2.81s\n",
      "358:\tlearn: 1706.4940168\ttotal: 1.57s\tremaining: 2.81s\n",
      "359:\tlearn: 1705.2691985\ttotal: 1.58s\tremaining: 2.8s\n",
      "360:\tlearn: 1703.9890494\ttotal: 1.58s\tremaining: 2.8s\n",
      "361:\tlearn: 1703.5996874\ttotal: 1.58s\tremaining: 2.79s\n",
      "362:\tlearn: 1702.5087913\ttotal: 1.59s\tremaining: 2.78s\n",
      "363:\tlearn: 1701.1374519\ttotal: 1.59s\tremaining: 2.78s\n",
      "364:\tlearn: 1700.3294949\ttotal: 1.59s\tremaining: 2.77s\n",
      "365:\tlearn: 1699.2839462\ttotal: 1.6s\tremaining: 2.77s\n",
      "366:\tlearn: 1698.0768012\ttotal: 1.6s\tremaining: 2.76s\n",
      "367:\tlearn: 1696.8856827\ttotal: 1.61s\tremaining: 2.76s\n",
      "368:\tlearn: 1696.1019968\ttotal: 1.61s\tremaining: 2.75s\n",
      "369:\tlearn: 1695.2246322\ttotal: 1.61s\tremaining: 2.75s\n",
      "370:\tlearn: 1694.7124617\ttotal: 1.61s\tremaining: 2.74s\n",
      "371:\tlearn: 1693.9051234\ttotal: 1.62s\tremaining: 2.73s\n",
      "372:\tlearn: 1692.8779861\ttotal: 1.62s\tremaining: 2.73s\n",
      "373:\tlearn: 1691.1935474\ttotal: 1.62s\tremaining: 2.72s\n",
      "374:\tlearn: 1690.2211536\ttotal: 1.63s\tremaining: 2.71s\n",
      "375:\tlearn: 1689.9524029\ttotal: 1.63s\tremaining: 2.71s\n",
      "376:\tlearn: 1688.3401607\ttotal: 1.63s\tremaining: 2.7s\n",
      "377:\tlearn: 1686.8265532\ttotal: 1.64s\tremaining: 2.69s\n",
      "378:\tlearn: 1685.6151367\ttotal: 1.64s\tremaining: 2.69s\n",
      "379:\tlearn: 1685.0931124\ttotal: 1.64s\tremaining: 2.68s\n",
      "380:\tlearn: 1683.9125571\ttotal: 1.64s\tremaining: 2.67s\n",
      "381:\tlearn: 1682.9144681\ttotal: 1.65s\tremaining: 2.67s\n",
      "382:\tlearn: 1682.1008434\ttotal: 1.69s\tremaining: 2.72s\n",
      "383:\tlearn: 1681.5029522\ttotal: 1.69s\tremaining: 2.72s\n",
      "384:\tlearn: 1680.3954458\ttotal: 1.7s\tremaining: 2.72s\n",
      "385:\tlearn: 1679.4882755\ttotal: 1.71s\tremaining: 2.72s\n",
      "386:\tlearn: 1678.9124086\ttotal: 1.72s\tremaining: 2.72s\n",
      "387:\tlearn: 1678.0531299\ttotal: 1.72s\tremaining: 2.72s\n",
      "388:\tlearn: 1677.3473852\ttotal: 1.73s\tremaining: 2.72s\n",
      "389:\tlearn: 1676.8094204\ttotal: 1.74s\tremaining: 2.72s\n",
      "390:\tlearn: 1675.7999758\ttotal: 1.74s\tremaining: 2.71s\n",
      "391:\tlearn: 1675.6844599\ttotal: 1.75s\tremaining: 2.71s\n",
      "392:\tlearn: 1675.1192282\ttotal: 1.75s\tremaining: 2.7s\n",
      "393:\tlearn: 1674.1230455\ttotal: 1.75s\tremaining: 2.69s\n",
      "394:\tlearn: 1673.1572443\ttotal: 1.75s\tremaining: 2.69s\n",
      "395:\tlearn: 1671.7493168\ttotal: 1.76s\tremaining: 2.68s\n",
      "396:\tlearn: 1671.1645056\ttotal: 1.76s\tremaining: 2.67s\n",
      "397:\tlearn: 1670.7179026\ttotal: 1.76s\tremaining: 2.67s\n",
      "398:\tlearn: 1670.2340746\ttotal: 1.77s\tremaining: 2.66s\n",
      "399:\tlearn: 1668.3798821\ttotal: 1.77s\tremaining: 2.66s\n",
      "400:\tlearn: 1667.6292088\ttotal: 1.77s\tremaining: 2.65s\n",
      "401:\tlearn: 1666.5793679\ttotal: 1.78s\tremaining: 2.64s\n",
      "402:\tlearn: 1665.6099877\ttotal: 1.78s\tremaining: 2.64s\n",
      "403:\tlearn: 1665.0578929\ttotal: 1.78s\tremaining: 2.63s\n",
      "404:\tlearn: 1664.4895879\ttotal: 1.79s\tremaining: 2.62s\n",
      "405:\tlearn: 1663.7367917\ttotal: 1.79s\tremaining: 2.62s\n",
      "406:\tlearn: 1663.5954724\ttotal: 1.79s\tremaining: 2.61s\n",
      "407:\tlearn: 1662.5811986\ttotal: 1.79s\tremaining: 2.6s\n",
      "408:\tlearn: 1661.6222214\ttotal: 1.8s\tremaining: 2.6s\n",
      "409:\tlearn: 1660.6538944\ttotal: 1.8s\tremaining: 2.59s\n",
      "410:\tlearn: 1659.1844831\ttotal: 1.8s\tremaining: 2.58s\n",
      "411:\tlearn: 1657.9668877\ttotal: 1.81s\tremaining: 2.58s\n",
      "412:\tlearn: 1657.8327554\ttotal: 1.81s\tremaining: 2.57s\n",
      "413:\tlearn: 1657.6773329\ttotal: 1.81s\tremaining: 2.57s\n",
      "414:\tlearn: 1657.2544796\ttotal: 1.81s\tremaining: 2.56s\n",
      "415:\tlearn: 1656.9888485\ttotal: 1.82s\tremaining: 2.55s\n",
      "416:\tlearn: 1656.7450108\ttotal: 1.82s\tremaining: 2.55s\n",
      "417:\tlearn: 1656.3103571\ttotal: 1.82s\tremaining: 2.54s\n",
      "418:\tlearn: 1656.0512134\ttotal: 1.83s\tremaining: 2.53s\n",
      "419:\tlearn: 1655.3404907\ttotal: 1.83s\tremaining: 2.53s\n",
      "420:\tlearn: 1654.6665209\ttotal: 1.83s\tremaining: 2.52s\n",
      "421:\tlearn: 1654.2085427\ttotal: 1.83s\tremaining: 2.51s\n",
      "422:\tlearn: 1653.3474669\ttotal: 1.84s\tremaining: 2.51s\n",
      "423:\tlearn: 1653.2745813\ttotal: 1.84s\tremaining: 2.5s\n",
      "424:\tlearn: 1653.1408686\ttotal: 1.84s\tremaining: 2.5s\n",
      "425:\tlearn: 1652.0742133\ttotal: 1.85s\tremaining: 2.49s\n",
      "426:\tlearn: 1651.4355601\ttotal: 1.85s\tremaining: 2.48s\n",
      "427:\tlearn: 1650.0970687\ttotal: 1.85s\tremaining: 2.48s\n",
      "428:\tlearn: 1649.7269156\ttotal: 1.86s\tremaining: 2.47s\n",
      "429:\tlearn: 1648.5392675\ttotal: 1.86s\tremaining: 2.46s\n",
      "430:\tlearn: 1648.3023130\ttotal: 1.86s\tremaining: 2.46s\n",
      "431:\tlearn: 1647.3203943\ttotal: 1.86s\tremaining: 2.45s\n",
      "432:\tlearn: 1647.1854031\ttotal: 1.87s\tremaining: 2.45s\n",
      "433:\tlearn: 1646.1536092\ttotal: 1.87s\tremaining: 2.44s\n",
      "434:\tlearn: 1646.0483001\ttotal: 1.88s\tremaining: 2.44s\n",
      "435:\tlearn: 1644.9388474\ttotal: 1.88s\tremaining: 2.43s\n",
      "436:\tlearn: 1644.8598408\ttotal: 1.88s\tremaining: 2.42s\n",
      "437:\tlearn: 1644.5553224\ttotal: 1.88s\tremaining: 2.42s\n",
      "438:\tlearn: 1643.9682638\ttotal: 1.89s\tremaining: 2.41s\n",
      "439:\tlearn: 1643.5325451\ttotal: 1.89s\tremaining: 2.41s\n",
      "440:\tlearn: 1642.9314018\ttotal: 1.89s\tremaining: 2.4s\n",
      "441:\tlearn: 1642.3858312\ttotal: 1.9s\tremaining: 2.4s\n",
      "442:\tlearn: 1642.2032228\ttotal: 1.9s\tremaining: 2.39s\n",
      "443:\tlearn: 1641.4053976\ttotal: 1.9s\tremaining: 2.38s\n",
      "444:\tlearn: 1640.8614347\ttotal: 1.91s\tremaining: 2.38s\n",
      "445:\tlearn: 1640.2424845\ttotal: 1.91s\tremaining: 2.37s\n",
      "446:\tlearn: 1639.4048173\ttotal: 1.91s\tremaining: 2.37s\n",
      "447:\tlearn: 1639.2240038\ttotal: 1.92s\tremaining: 2.36s\n",
      "448:\tlearn: 1637.9068588\ttotal: 1.92s\tremaining: 2.35s\n",
      "449:\tlearn: 1637.0306980\ttotal: 1.92s\tremaining: 2.35s\n",
      "450:\tlearn: 1636.0425600\ttotal: 1.92s\tremaining: 2.34s\n",
      "451:\tlearn: 1634.8946754\ttotal: 1.93s\tremaining: 2.34s\n",
      "452:\tlearn: 1633.5541403\ttotal: 1.93s\tremaining: 2.33s\n",
      "453:\tlearn: 1632.9601772\ttotal: 1.93s\tremaining: 2.33s\n",
      "454:\tlearn: 1631.9818340\ttotal: 1.94s\tremaining: 2.32s\n",
      "455:\tlearn: 1630.7616995\ttotal: 1.94s\tremaining: 2.31s\n",
      "456:\tlearn: 1629.1701114\ttotal: 1.94s\tremaining: 2.31s\n",
      "457:\tlearn: 1627.9522467\ttotal: 1.95s\tremaining: 2.3s\n",
      "458:\tlearn: 1627.3242741\ttotal: 1.95s\tremaining: 2.3s\n",
      "459:\tlearn: 1626.7422754\ttotal: 1.95s\tremaining: 2.29s\n",
      "460:\tlearn: 1625.7337132\ttotal: 1.95s\tremaining: 2.29s\n",
      "461:\tlearn: 1624.7357756\ttotal: 1.96s\tremaining: 2.28s\n",
      "462:\tlearn: 1623.8527885\ttotal: 1.96s\tremaining: 2.27s\n",
      "463:\tlearn: 1623.0180701\ttotal: 1.96s\tremaining: 2.27s\n",
      "464:\tlearn: 1621.9586682\ttotal: 1.97s\tremaining: 2.26s\n",
      "465:\tlearn: 1621.3809119\ttotal: 1.97s\tremaining: 2.25s\n",
      "466:\tlearn: 1620.5015733\ttotal: 1.97s\tremaining: 2.25s\n",
      "467:\tlearn: 1619.3879343\ttotal: 1.97s\tremaining: 2.24s\n",
      "468:\tlearn: 1619.0068412\ttotal: 1.98s\tremaining: 2.24s\n",
      "469:\tlearn: 1618.1503404\ttotal: 1.98s\tremaining: 2.23s\n",
      "470:\tlearn: 1617.4487923\ttotal: 1.98s\tremaining: 2.23s\n",
      "471:\tlearn: 1616.9916833\ttotal: 1.99s\tremaining: 2.22s\n",
      "472:\tlearn: 1616.3581886\ttotal: 1.99s\tremaining: 2.22s\n",
      "473:\tlearn: 1615.6304572\ttotal: 1.99s\tremaining: 2.21s\n",
      "474:\tlearn: 1614.9260935\ttotal: 2s\tremaining: 2.21s\n",
      "475:\tlearn: 1614.4877752\ttotal: 2s\tremaining: 2.2s\n",
      "476:\tlearn: 1613.5153320\ttotal: 2s\tremaining: 2.19s\n",
      "477:\tlearn: 1612.9008007\ttotal: 2s\tremaining: 2.19s\n",
      "478:\tlearn: 1612.4435577\ttotal: 2.01s\tremaining: 2.18s\n",
      "479:\tlearn: 1611.8848555\ttotal: 2.01s\tremaining: 2.18s\n",
      "480:\tlearn: 1611.1920371\ttotal: 2.01s\tremaining: 2.17s\n",
      "481:\tlearn: 1610.3973377\ttotal: 2.02s\tremaining: 2.17s\n",
      "482:\tlearn: 1609.1774939\ttotal: 2.02s\tremaining: 2.16s\n",
      "483:\tlearn: 1609.0793786\ttotal: 2.02s\tremaining: 2.16s\n",
      "484:\tlearn: 1607.7393201\ttotal: 2.02s\tremaining: 2.15s\n",
      "485:\tlearn: 1606.9840083\ttotal: 2.03s\tremaining: 2.15s\n",
      "486:\tlearn: 1606.0092578\ttotal: 2.03s\tremaining: 2.14s\n",
      "487:\tlearn: 1605.4078436\ttotal: 2.03s\tremaining: 2.13s\n",
      "488:\tlearn: 1604.3828409\ttotal: 2.04s\tremaining: 2.13s\n",
      "489:\tlearn: 1604.2731123\ttotal: 2.04s\tremaining: 2.12s\n",
      "490:\tlearn: 1604.0055210\ttotal: 2.04s\tremaining: 2.12s\n",
      "491:\tlearn: 1603.1330566\ttotal: 2.05s\tremaining: 2.11s\n",
      "492:\tlearn: 1602.1632837\ttotal: 2.05s\tremaining: 2.11s\n",
      "493:\tlearn: 1601.4843191\ttotal: 2.05s\tremaining: 2.1s\n"
     ]
    },
    {
     "name": "stdout",
     "output_type": "stream",
     "text": [
      "494:\tlearn: 1600.5055202\ttotal: 2.06s\tremaining: 2.1s\n",
      "495:\tlearn: 1599.0997170\ttotal: 2.06s\tremaining: 2.09s\n",
      "496:\tlearn: 1598.1239443\ttotal: 2.06s\tremaining: 2.09s\n",
      "497:\tlearn: 1597.1816720\ttotal: 2.06s\tremaining: 2.08s\n",
      "498:\tlearn: 1596.8414010\ttotal: 2.07s\tremaining: 2.08s\n",
      "499:\tlearn: 1596.0132998\ttotal: 2.07s\tremaining: 2.07s\n",
      "500:\tlearn: 1595.6886422\ttotal: 2.07s\tremaining: 2.07s\n",
      "501:\tlearn: 1594.9742991\ttotal: 2.08s\tremaining: 2.06s\n",
      "502:\tlearn: 1594.1178137\ttotal: 2.08s\tremaining: 2.06s\n",
      "503:\tlearn: 1593.4375558\ttotal: 2.09s\tremaining: 2.05s\n",
      "504:\tlearn: 1592.7452770\ttotal: 2.09s\tremaining: 2.05s\n",
      "505:\tlearn: 1592.3433616\ttotal: 2.09s\tremaining: 2.04s\n",
      "506:\tlearn: 1591.4357231\ttotal: 2.1s\tremaining: 2.04s\n",
      "507:\tlearn: 1590.9979296\ttotal: 2.1s\tremaining: 2.04s\n",
      "508:\tlearn: 1590.6895370\ttotal: 2.11s\tremaining: 2.03s\n",
      "509:\tlearn: 1590.0642261\ttotal: 2.11s\tremaining: 2.03s\n",
      "510:\tlearn: 1589.3895474\ttotal: 2.11s\tremaining: 2.02s\n",
      "511:\tlearn: 1588.2866663\ttotal: 2.12s\tremaining: 2.02s\n",
      "512:\tlearn: 1587.1522359\ttotal: 2.12s\tremaining: 2.01s\n",
      "513:\tlearn: 1586.7836769\ttotal: 2.13s\tremaining: 2.01s\n",
      "514:\tlearn: 1586.7009385\ttotal: 2.13s\tremaining: 2s\n",
      "515:\tlearn: 1586.6509134\ttotal: 2.13s\tremaining: 2s\n",
      "516:\tlearn: 1586.5729623\ttotal: 2.13s\tremaining: 2s\n",
      "517:\tlearn: 1585.1117319\ttotal: 2.14s\tremaining: 1.99s\n",
      "518:\tlearn: 1584.1175052\ttotal: 2.14s\tremaining: 1.99s\n",
      "519:\tlearn: 1583.4775216\ttotal: 2.15s\tremaining: 1.98s\n",
      "520:\tlearn: 1582.6160281\ttotal: 2.15s\tremaining: 1.98s\n",
      "521:\tlearn: 1582.2518877\ttotal: 2.15s\tremaining: 1.97s\n",
      "522:\tlearn: 1580.9338681\ttotal: 2.16s\tremaining: 1.97s\n",
      "523:\tlearn: 1580.3326115\ttotal: 2.16s\tremaining: 1.96s\n",
      "524:\tlearn: 1580.1574041\ttotal: 2.17s\tremaining: 1.96s\n",
      "525:\tlearn: 1579.2465885\ttotal: 2.17s\tremaining: 1.96s\n",
      "526:\tlearn: 1578.5308711\ttotal: 2.17s\tremaining: 1.95s\n",
      "527:\tlearn: 1577.6642993\ttotal: 2.18s\tremaining: 1.95s\n",
      "528:\tlearn: 1577.2807463\ttotal: 2.18s\tremaining: 1.94s\n",
      "529:\tlearn: 1576.5305319\ttotal: 2.19s\tremaining: 1.94s\n",
      "530:\tlearn: 1576.1477603\ttotal: 2.19s\tremaining: 1.93s\n",
      "531:\tlearn: 1575.7205976\ttotal: 2.19s\tremaining: 1.93s\n",
      "532:\tlearn: 1575.2575178\ttotal: 2.2s\tremaining: 1.92s\n",
      "533:\tlearn: 1574.4871378\ttotal: 2.2s\tremaining: 1.92s\n",
      "534:\tlearn: 1573.9326103\ttotal: 2.2s\tremaining: 1.92s\n",
      "535:\tlearn: 1573.4242067\ttotal: 2.21s\tremaining: 1.91s\n",
      "536:\tlearn: 1572.7152618\ttotal: 2.21s\tremaining: 1.91s\n",
      "537:\tlearn: 1572.3542056\ttotal: 2.21s\tremaining: 1.9s\n",
      "538:\tlearn: 1571.8407835\ttotal: 2.22s\tremaining: 1.9s\n",
      "539:\tlearn: 1571.3043229\ttotal: 2.23s\tremaining: 1.9s\n",
      "540:\tlearn: 1571.0040712\ttotal: 2.23s\tremaining: 1.89s\n",
      "541:\tlearn: 1570.1848244\ttotal: 2.23s\tremaining: 1.89s\n",
      "542:\tlearn: 1569.9987638\ttotal: 2.23s\tremaining: 1.88s\n",
      "543:\tlearn: 1569.4244468\ttotal: 2.24s\tremaining: 1.88s\n",
      "544:\tlearn: 1568.7184640\ttotal: 2.24s\tremaining: 1.87s\n",
      "545:\tlearn: 1568.4575509\ttotal: 2.24s\tremaining: 1.86s\n",
      "546:\tlearn: 1568.0748658\ttotal: 2.25s\tremaining: 1.86s\n",
      "547:\tlearn: 1567.7550227\ttotal: 2.25s\tremaining: 1.85s\n",
      "548:\tlearn: 1567.2167455\ttotal: 2.25s\tremaining: 1.85s\n",
      "549:\tlearn: 1566.5181983\ttotal: 2.25s\tremaining: 1.84s\n",
      "550:\tlearn: 1565.8460149\ttotal: 2.26s\tremaining: 1.84s\n",
      "551:\tlearn: 1565.3721263\ttotal: 2.26s\tremaining: 1.83s\n",
      "552:\tlearn: 1564.7981331\ttotal: 2.26s\tremaining: 1.83s\n",
      "553:\tlearn: 1564.0550090\ttotal: 2.26s\tremaining: 1.82s\n",
      "554:\tlearn: 1563.5069787\ttotal: 2.27s\tremaining: 1.82s\n",
      "555:\tlearn: 1562.7702617\ttotal: 2.27s\tremaining: 1.81s\n",
      "556:\tlearn: 1562.2005261\ttotal: 2.27s\tremaining: 1.81s\n",
      "557:\tlearn: 1562.1108972\ttotal: 2.28s\tremaining: 1.8s\n",
      "558:\tlearn: 1561.5180227\ttotal: 2.28s\tremaining: 1.8s\n",
      "559:\tlearn: 1560.6295085\ttotal: 2.28s\tremaining: 1.79s\n",
      "560:\tlearn: 1560.3839425\ttotal: 2.29s\tremaining: 1.79s\n",
      "561:\tlearn: 1559.4823227\ttotal: 2.29s\tremaining: 1.78s\n",
      "562:\tlearn: 1558.8274478\ttotal: 2.29s\tremaining: 1.78s\n",
      "563:\tlearn: 1557.8958313\ttotal: 2.29s\tremaining: 1.77s\n",
      "564:\tlearn: 1557.0757390\ttotal: 2.3s\tremaining: 1.77s\n",
      "565:\tlearn: 1556.5255765\ttotal: 2.3s\tremaining: 1.76s\n",
      "566:\tlearn: 1555.7532973\ttotal: 2.3s\tremaining: 1.76s\n",
      "567:\tlearn: 1555.0157374\ttotal: 2.31s\tremaining: 1.75s\n",
      "568:\tlearn: 1554.2187446\ttotal: 2.31s\tremaining: 1.75s\n",
      "569:\tlearn: 1553.5368079\ttotal: 2.31s\tremaining: 1.74s\n",
      "570:\tlearn: 1552.7536475\ttotal: 2.31s\tremaining: 1.74s\n",
      "571:\tlearn: 1551.7422022\ttotal: 2.32s\tremaining: 1.73s\n",
      "572:\tlearn: 1550.7225467\ttotal: 2.32s\tremaining: 1.73s\n",
      "573:\tlearn: 1550.0526492\ttotal: 2.32s\tremaining: 1.73s\n",
      "574:\tlearn: 1549.3051343\ttotal: 2.33s\tremaining: 1.72s\n",
      "575:\tlearn: 1548.8063562\ttotal: 2.33s\tremaining: 1.72s\n",
      "576:\tlearn: 1548.0879888\ttotal: 2.33s\tremaining: 1.71s\n",
      "577:\tlearn: 1547.7179869\ttotal: 2.34s\tremaining: 1.71s\n",
      "578:\tlearn: 1546.9047022\ttotal: 2.34s\tremaining: 1.7s\n",
      "579:\tlearn: 1546.4505959\ttotal: 2.35s\tremaining: 1.7s\n",
      "580:\tlearn: 1546.0513077\ttotal: 2.35s\tremaining: 1.69s\n",
      "581:\tlearn: 1545.9579093\ttotal: 2.35s\tremaining: 1.69s\n",
      "582:\tlearn: 1545.3358764\ttotal: 2.35s\tremaining: 1.68s\n",
      "583:\tlearn: 1545.1645137\ttotal: 2.36s\tremaining: 1.68s\n",
      "584:\tlearn: 1544.4095606\ttotal: 2.36s\tremaining: 1.67s\n",
      "585:\tlearn: 1543.6339000\ttotal: 2.36s\tremaining: 1.67s\n",
      "586:\tlearn: 1543.1807245\ttotal: 2.37s\tremaining: 1.67s\n",
      "587:\tlearn: 1542.3885688\ttotal: 2.37s\tremaining: 1.66s\n",
      "588:\tlearn: 1541.6165388\ttotal: 2.37s\tremaining: 1.66s\n",
      "589:\tlearn: 1541.3845696\ttotal: 2.38s\tremaining: 1.65s\n",
      "590:\tlearn: 1540.8556182\ttotal: 2.38s\tremaining: 1.65s\n",
      "591:\tlearn: 1539.9453133\ttotal: 2.38s\tremaining: 1.64s\n",
      "592:\tlearn: 1539.4403370\ttotal: 2.39s\tremaining: 1.64s\n",
      "593:\tlearn: 1538.5377740\ttotal: 2.39s\tremaining: 1.63s\n",
      "594:\tlearn: 1538.2868068\ttotal: 2.39s\tremaining: 1.63s\n",
      "595:\tlearn: 1537.6694094\ttotal: 2.4s\tremaining: 1.62s\n",
      "596:\tlearn: 1537.2728185\ttotal: 2.4s\tremaining: 1.62s\n",
      "597:\tlearn: 1536.9950573\ttotal: 2.4s\tremaining: 1.61s\n",
      "598:\tlearn: 1536.2345617\ttotal: 2.4s\tremaining: 1.61s\n",
      "599:\tlearn: 1535.8585594\ttotal: 2.41s\tremaining: 1.6s\n",
      "600:\tlearn: 1534.7510088\ttotal: 2.41s\tremaining: 1.6s\n",
      "601:\tlearn: 1534.5314653\ttotal: 2.41s\tremaining: 1.59s\n",
      "602:\tlearn: 1534.3225798\ttotal: 2.42s\tremaining: 1.59s\n",
      "603:\tlearn: 1533.6939128\ttotal: 2.42s\tremaining: 1.59s\n",
      "604:\tlearn: 1533.4630805\ttotal: 2.42s\tremaining: 1.58s\n",
      "605:\tlearn: 1533.2755230\ttotal: 2.42s\tremaining: 1.58s\n",
      "606:\tlearn: 1533.1123901\ttotal: 2.43s\tremaining: 1.57s\n",
      "607:\tlearn: 1532.7088859\ttotal: 2.43s\tremaining: 1.57s\n",
      "608:\tlearn: 1532.1992563\ttotal: 2.43s\tremaining: 1.56s\n",
      "609:\tlearn: 1531.7155707\ttotal: 2.44s\tremaining: 1.56s\n",
      "610:\tlearn: 1531.3940726\ttotal: 2.44s\tremaining: 1.55s\n",
      "611:\tlearn: 1530.8048857\ttotal: 2.44s\tremaining: 1.55s\n",
      "612:\tlearn: 1529.9925474\ttotal: 2.44s\tremaining: 1.54s\n",
      "613:\tlearn: 1529.7203850\ttotal: 2.45s\tremaining: 1.54s\n",
      "614:\tlearn: 1528.8811950\ttotal: 2.45s\tremaining: 1.53s\n",
      "615:\tlearn: 1528.2461397\ttotal: 2.45s\tremaining: 1.53s\n",
      "616:\tlearn: 1527.6482409\ttotal: 2.46s\tremaining: 1.52s\n",
      "617:\tlearn: 1527.5671285\ttotal: 2.46s\tremaining: 1.52s\n",
      "618:\tlearn: 1526.7596144\ttotal: 2.46s\tremaining: 1.52s\n",
      "619:\tlearn: 1526.0828265\ttotal: 2.47s\tremaining: 1.51s\n",
      "620:\tlearn: 1525.5155126\ttotal: 2.47s\tremaining: 1.51s\n",
      "621:\tlearn: 1524.7101633\ttotal: 2.47s\tremaining: 1.5s\n",
      "622:\tlearn: 1523.8672844\ttotal: 2.47s\tremaining: 1.5s\n",
      "623:\tlearn: 1523.6136284\ttotal: 2.48s\tremaining: 1.49s\n",
      "624:\tlearn: 1523.0225472\ttotal: 2.48s\tremaining: 1.49s\n",
      "625:\tlearn: 1522.5103069\ttotal: 2.48s\tremaining: 1.48s\n",
      "626:\tlearn: 1522.3845852\ttotal: 2.48s\tremaining: 1.48s\n",
      "627:\tlearn: 1521.9012692\ttotal: 2.49s\tremaining: 1.47s\n",
      "628:\tlearn: 1521.1156245\ttotal: 2.49s\tremaining: 1.47s\n",
      "629:\tlearn: 1520.2595444\ttotal: 2.5s\tremaining: 1.47s\n",
      "630:\tlearn: 1519.6208229\ttotal: 2.5s\tremaining: 1.46s\n",
      "631:\tlearn: 1518.8882865\ttotal: 2.5s\tremaining: 1.46s\n",
      "632:\tlearn: 1518.1634315\ttotal: 2.5s\tremaining: 1.45s\n",
      "633:\tlearn: 1517.6659604\ttotal: 2.51s\tremaining: 1.45s\n",
      "634:\tlearn: 1516.8623195\ttotal: 2.51s\tremaining: 1.44s\n",
      "635:\tlearn: 1516.5145048\ttotal: 2.51s\tremaining: 1.44s\n",
      "636:\tlearn: 1515.8042237\ttotal: 2.51s\tremaining: 1.43s\n",
      "637:\tlearn: 1515.2162862\ttotal: 2.52s\tremaining: 1.43s\n",
      "638:\tlearn: 1514.7642883\ttotal: 2.52s\tremaining: 1.42s\n",
      "639:\tlearn: 1514.2167011\ttotal: 2.52s\tremaining: 1.42s\n",
      "640:\tlearn: 1513.5300271\ttotal: 2.53s\tremaining: 1.41s\n",
      "641:\tlearn: 1513.1273348\ttotal: 2.53s\tremaining: 1.41s\n",
      "642:\tlearn: 1512.5780757\ttotal: 2.53s\tremaining: 1.41s\n",
      "643:\tlearn: 1512.0609553\ttotal: 2.53s\tremaining: 1.4s\n",
      "644:\tlearn: 1511.2447647\ttotal: 2.54s\tremaining: 1.4s\n",
      "645:\tlearn: 1510.7458626\ttotal: 2.54s\tremaining: 1.39s\n",
      "646:\tlearn: 1510.0158177\ttotal: 2.54s\tremaining: 1.39s\n"
     ]
    },
    {
     "name": "stdout",
     "output_type": "stream",
     "text": [
      "647:\tlearn: 1509.3502163\ttotal: 2.55s\tremaining: 1.38s\n",
      "648:\tlearn: 1508.8548872\ttotal: 2.55s\tremaining: 1.38s\n",
      "649:\tlearn: 1508.4888717\ttotal: 2.55s\tremaining: 1.38s\n",
      "650:\tlearn: 1508.2477037\ttotal: 2.56s\tremaining: 1.37s\n",
      "651:\tlearn: 1508.0149226\ttotal: 2.56s\tremaining: 1.37s\n",
      "652:\tlearn: 1507.6088812\ttotal: 2.56s\tremaining: 1.36s\n",
      "653:\tlearn: 1507.3886849\ttotal: 2.56s\tremaining: 1.36s\n",
      "654:\tlearn: 1506.6692968\ttotal: 2.57s\tremaining: 1.35s\n",
      "655:\tlearn: 1506.4309651\ttotal: 2.57s\tremaining: 1.35s\n",
      "656:\tlearn: 1505.7847099\ttotal: 2.57s\tremaining: 1.34s\n",
      "657:\tlearn: 1505.3640739\ttotal: 2.58s\tremaining: 1.34s\n",
      "658:\tlearn: 1504.9353428\ttotal: 2.58s\tremaining: 1.33s\n",
      "659:\tlearn: 1504.7549192\ttotal: 2.58s\tremaining: 1.33s\n",
      "660:\tlearn: 1504.1557970\ttotal: 2.58s\tremaining: 1.33s\n",
      "661:\tlearn: 1503.2742027\ttotal: 2.59s\tremaining: 1.32s\n",
      "662:\tlearn: 1502.8666172\ttotal: 2.59s\tremaining: 1.32s\n",
      "663:\tlearn: 1502.3035642\ttotal: 2.59s\tremaining: 1.31s\n",
      "664:\tlearn: 1501.4032039\ttotal: 2.6s\tremaining: 1.31s\n",
      "665:\tlearn: 1500.6231669\ttotal: 2.6s\tremaining: 1.3s\n",
      "666:\tlearn: 1500.2250179\ttotal: 2.6s\tremaining: 1.3s\n",
      "667:\tlearn: 1499.6128219\ttotal: 2.6s\tremaining: 1.29s\n",
      "668:\tlearn: 1499.0149535\ttotal: 2.61s\tremaining: 1.29s\n",
      "669:\tlearn: 1498.6578487\ttotal: 2.61s\tremaining: 1.29s\n",
      "670:\tlearn: 1498.1144940\ttotal: 2.61s\tremaining: 1.28s\n",
      "671:\tlearn: 1497.4557053\ttotal: 2.62s\tremaining: 1.28s\n",
      "672:\tlearn: 1496.8410263\ttotal: 2.62s\tremaining: 1.27s\n",
      "673:\tlearn: 1495.7666192\ttotal: 2.62s\tremaining: 1.27s\n",
      "674:\tlearn: 1495.2379578\ttotal: 2.63s\tremaining: 1.26s\n",
      "675:\tlearn: 1494.9131978\ttotal: 2.63s\tremaining: 1.26s\n",
      "676:\tlearn: 1494.3966577\ttotal: 2.63s\tremaining: 1.25s\n",
      "677:\tlearn: 1493.9105753\ttotal: 2.63s\tremaining: 1.25s\n",
      "678:\tlearn: 1492.9616427\ttotal: 2.64s\tremaining: 1.25s\n",
      "679:\tlearn: 1492.4105060\ttotal: 2.64s\tremaining: 1.24s\n",
      "680:\tlearn: 1491.8173085\ttotal: 2.64s\tremaining: 1.24s\n",
      "681:\tlearn: 1491.4818460\ttotal: 2.65s\tremaining: 1.23s\n",
      "682:\tlearn: 1490.9312617\ttotal: 2.65s\tremaining: 1.23s\n",
      "683:\tlearn: 1490.5750473\ttotal: 2.65s\tremaining: 1.23s\n",
      "684:\tlearn: 1490.0394374\ttotal: 2.65s\tremaining: 1.22s\n",
      "685:\tlearn: 1489.5764120\ttotal: 2.66s\tremaining: 1.22s\n",
      "686:\tlearn: 1489.2199676\ttotal: 2.66s\tremaining: 1.21s\n",
      "687:\tlearn: 1488.8291275\ttotal: 2.66s\tremaining: 1.21s\n",
      "688:\tlearn: 1488.5435141\ttotal: 2.67s\tremaining: 1.2s\n",
      "689:\tlearn: 1487.7833164\ttotal: 2.67s\tremaining: 1.2s\n",
      "690:\tlearn: 1487.1679102\ttotal: 2.67s\tremaining: 1.19s\n",
      "691:\tlearn: 1486.7117546\ttotal: 2.67s\tremaining: 1.19s\n",
      "692:\tlearn: 1486.3637480\ttotal: 2.68s\tremaining: 1.19s\n",
      "693:\tlearn: 1485.9724962\ttotal: 2.68s\tremaining: 1.18s\n",
      "694:\tlearn: 1485.7031766\ttotal: 2.68s\tremaining: 1.18s\n",
      "695:\tlearn: 1485.3465625\ttotal: 2.69s\tremaining: 1.17s\n",
      "696:\tlearn: 1484.8688248\ttotal: 2.69s\tremaining: 1.17s\n",
      "697:\tlearn: 1484.5003710\ttotal: 2.69s\tremaining: 1.16s\n",
      "698:\tlearn: 1483.9291265\ttotal: 2.69s\tremaining: 1.16s\n",
      "699:\tlearn: 1483.4504989\ttotal: 2.7s\tremaining: 1.16s\n",
      "700:\tlearn: 1482.9527899\ttotal: 2.7s\tremaining: 1.15s\n",
      "701:\tlearn: 1482.6213025\ttotal: 2.7s\tremaining: 1.15s\n",
      "702:\tlearn: 1482.2607397\ttotal: 2.71s\tremaining: 1.14s\n",
      "703:\tlearn: 1481.5413144\ttotal: 2.71s\tremaining: 1.14s\n",
      "704:\tlearn: 1481.0862612\ttotal: 2.71s\tremaining: 1.14s\n",
      "705:\tlearn: 1480.6518051\ttotal: 2.72s\tremaining: 1.13s\n",
      "706:\tlearn: 1479.8305560\ttotal: 2.72s\tremaining: 1.13s\n",
      "707:\tlearn: 1479.1964754\ttotal: 2.73s\tremaining: 1.12s\n",
      "708:\tlearn: 1478.5805068\ttotal: 2.73s\tremaining: 1.12s\n",
      "709:\tlearn: 1477.3816267\ttotal: 2.73s\tremaining: 1.11s\n",
      "710:\tlearn: 1476.8144201\ttotal: 2.73s\tremaining: 1.11s\n",
      "711:\tlearn: 1476.4879912\ttotal: 2.74s\tremaining: 1.11s\n",
      "712:\tlearn: 1475.9604276\ttotal: 2.74s\tremaining: 1.1s\n",
      "713:\tlearn: 1475.4086383\ttotal: 2.74s\tremaining: 1.1s\n",
      "714:\tlearn: 1475.1782742\ttotal: 2.74s\tremaining: 1.09s\n",
      "715:\tlearn: 1474.9840334\ttotal: 2.75s\tremaining: 1.09s\n",
      "716:\tlearn: 1474.4285590\ttotal: 2.75s\tremaining: 1.08s\n",
      "717:\tlearn: 1474.2816681\ttotal: 2.75s\tremaining: 1.08s\n",
      "718:\tlearn: 1473.9668892\ttotal: 2.75s\tremaining: 1.08s\n",
      "719:\tlearn: 1473.6053709\ttotal: 2.76s\tremaining: 1.07s\n",
      "720:\tlearn: 1473.1061262\ttotal: 2.76s\tremaining: 1.07s\n",
      "721:\tlearn: 1472.7458616\ttotal: 2.76s\tremaining: 1.06s\n",
      "722:\tlearn: 1472.3905388\ttotal: 2.77s\tremaining: 1.06s\n",
      "723:\tlearn: 1471.4193148\ttotal: 2.77s\tremaining: 1.05s\n",
      "724:\tlearn: 1471.0045313\ttotal: 2.77s\tremaining: 1.05s\n",
      "725:\tlearn: 1470.5324696\ttotal: 2.77s\tremaining: 1.05s\n",
      "726:\tlearn: 1470.3328135\ttotal: 2.78s\tremaining: 1.04s\n",
      "727:\tlearn: 1469.9653212\ttotal: 2.78s\tremaining: 1.04s\n",
      "728:\tlearn: 1469.6659082\ttotal: 2.78s\tremaining: 1.03s\n",
      "729:\tlearn: 1469.1495751\ttotal: 2.79s\tremaining: 1.03s\n",
      "730:\tlearn: 1468.8014682\ttotal: 2.79s\tremaining: 1.03s\n",
      "731:\tlearn: 1468.6107897\ttotal: 2.79s\tremaining: 1.02s\n",
      "732:\tlearn: 1468.1400959\ttotal: 2.79s\tremaining: 1.02s\n",
      "733:\tlearn: 1467.5578799\ttotal: 2.8s\tremaining: 1.01s\n",
      "734:\tlearn: 1467.1283734\ttotal: 2.8s\tremaining: 1.01s\n",
      "735:\tlearn: 1466.3046261\ttotal: 2.8s\tremaining: 1s\n",
      "736:\tlearn: 1465.6910858\ttotal: 2.81s\tremaining: 1s\n",
      "737:\tlearn: 1465.3056236\ttotal: 2.81s\tremaining: 997ms\n",
      "738:\tlearn: 1464.5906405\ttotal: 2.81s\tremaining: 993ms\n",
      "739:\tlearn: 1464.2042192\ttotal: 2.81s\tremaining: 989ms\n",
      "740:\tlearn: 1463.5160403\ttotal: 2.82s\tremaining: 985ms\n",
      "741:\tlearn: 1462.7269794\ttotal: 2.82s\tremaining: 981ms\n",
      "742:\tlearn: 1462.2795259\ttotal: 2.82s\tremaining: 977ms\n",
      "743:\tlearn: 1462.1219501\ttotal: 2.83s\tremaining: 972ms\n",
      "744:\tlearn: 1461.7945532\ttotal: 2.83s\tremaining: 968ms\n",
      "745:\tlearn: 1461.4543491\ttotal: 2.83s\tremaining: 964ms\n",
      "746:\tlearn: 1461.0593526\ttotal: 2.83s\tremaining: 960ms\n",
      "747:\tlearn: 1460.5466190\ttotal: 2.84s\tremaining: 956ms\n",
      "748:\tlearn: 1460.1645784\ttotal: 2.84s\tremaining: 953ms\n",
      "749:\tlearn: 1459.9385702\ttotal: 2.85s\tremaining: 949ms\n",
      "750:\tlearn: 1459.5537125\ttotal: 2.85s\tremaining: 945ms\n",
      "751:\tlearn: 1459.2758860\ttotal: 2.85s\tremaining: 941ms\n",
      "752:\tlearn: 1458.9011141\ttotal: 2.85s\tremaining: 937ms\n",
      "753:\tlearn: 1458.1825555\ttotal: 2.86s\tremaining: 933ms\n",
      "754:\tlearn: 1457.3638981\ttotal: 2.86s\tremaining: 929ms\n",
      "755:\tlearn: 1456.9892369\ttotal: 2.87s\tremaining: 925ms\n",
      "756:\tlearn: 1456.5655568\ttotal: 2.87s\tremaining: 921ms\n",
      "757:\tlearn: 1456.0841061\ttotal: 2.87s\tremaining: 917ms\n",
      "758:\tlearn: 1455.2880570\ttotal: 2.88s\tremaining: 913ms\n",
      "759:\tlearn: 1454.8827736\ttotal: 2.88s\tremaining: 909ms\n",
      "760:\tlearn: 1454.4057412\ttotal: 2.88s\tremaining: 905ms\n",
      "761:\tlearn: 1454.0160679\ttotal: 2.88s\tremaining: 901ms\n",
      "762:\tlearn: 1453.3894104\ttotal: 2.89s\tremaining: 897ms\n",
      "763:\tlearn: 1453.0041790\ttotal: 2.89s\tremaining: 893ms\n",
      "764:\tlearn: 1452.7654811\ttotal: 2.9s\tremaining: 890ms\n",
      "765:\tlearn: 1452.4401478\ttotal: 2.9s\tremaining: 886ms\n",
      "766:\tlearn: 1452.0917385\ttotal: 2.9s\tremaining: 882ms\n",
      "767:\tlearn: 1451.6762995\ttotal: 2.91s\tremaining: 879ms\n",
      "768:\tlearn: 1451.2765776\ttotal: 2.91s\tremaining: 875ms\n",
      "769:\tlearn: 1450.8628333\ttotal: 2.92s\tremaining: 871ms\n",
      "770:\tlearn: 1450.5586217\ttotal: 2.92s\tremaining: 868ms\n",
      "771:\tlearn: 1450.1677414\ttotal: 2.93s\tremaining: 864ms\n",
      "772:\tlearn: 1449.6534569\ttotal: 2.93s\tremaining: 860ms\n",
      "773:\tlearn: 1449.3984799\ttotal: 2.93s\tremaining: 856ms\n",
      "774:\tlearn: 1449.0460064\ttotal: 2.94s\tremaining: 852ms\n",
      "775:\tlearn: 1448.2678569\ttotal: 2.94s\tremaining: 848ms\n",
      "776:\tlearn: 1448.1162845\ttotal: 2.94s\tremaining: 845ms\n",
      "777:\tlearn: 1447.1830073\ttotal: 2.94s\tremaining: 841ms\n",
      "778:\tlearn: 1446.7399252\ttotal: 2.95s\tremaining: 837ms\n",
      "779:\tlearn: 1446.3828129\ttotal: 2.95s\tremaining: 833ms\n",
      "780:\tlearn: 1445.8552367\ttotal: 2.96s\tremaining: 829ms\n",
      "781:\tlearn: 1445.3041615\ttotal: 2.96s\tremaining: 825ms\n",
      "782:\tlearn: 1444.8111268\ttotal: 2.96s\tremaining: 821ms\n",
      "783:\tlearn: 1444.2846811\ttotal: 2.96s\tremaining: 817ms\n",
      "784:\tlearn: 1444.0430976\ttotal: 2.97s\tremaining: 813ms\n",
      "785:\tlearn: 1443.5911725\ttotal: 2.97s\tremaining: 809ms\n",
      "786:\tlearn: 1443.1783019\ttotal: 2.98s\tremaining: 805ms\n",
      "787:\tlearn: 1442.9245194\ttotal: 2.98s\tremaining: 801ms\n",
      "788:\tlearn: 1442.5926552\ttotal: 2.98s\tremaining: 798ms\n",
      "789:\tlearn: 1441.9551362\ttotal: 2.99s\tremaining: 794ms\n",
      "790:\tlearn: 1441.5599994\ttotal: 2.99s\tremaining: 790ms\n",
      "791:\tlearn: 1441.1706770\ttotal: 2.99s\tremaining: 786ms\n",
      "792:\tlearn: 1440.6333282\ttotal: 3s\tremaining: 782ms\n",
      "793:\tlearn: 1440.3786124\ttotal: 3s\tremaining: 778ms\n",
      "794:\tlearn: 1440.0881269\ttotal: 3s\tremaining: 774ms\n",
      "795:\tlearn: 1439.8267873\ttotal: 3.01s\tremaining: 771ms\n",
      "796:\tlearn: 1439.3213100\ttotal: 3.01s\tremaining: 767ms\n",
      "797:\tlearn: 1439.0764937\ttotal: 3.01s\tremaining: 763ms\n",
      "798:\tlearn: 1438.4458664\ttotal: 3.02s\tremaining: 759ms\n",
      "799:\tlearn: 1437.9742468\ttotal: 3.02s\tremaining: 755ms\n",
      "800:\tlearn: 1437.7532110\ttotal: 3.02s\tremaining: 751ms\n",
      "801:\tlearn: 1437.6060078\ttotal: 3.03s\tremaining: 748ms\n",
      "802:\tlearn: 1437.1454904\ttotal: 3.03s\tremaining: 744ms\n"
     ]
    },
    {
     "name": "stdout",
     "output_type": "stream",
     "text": [
      "803:\tlearn: 1436.7542869\ttotal: 3.04s\tremaining: 740ms\n",
      "804:\tlearn: 1436.4237289\ttotal: 3.04s\tremaining: 736ms\n",
      "805:\tlearn: 1436.3193391\ttotal: 3.04s\tremaining: 732ms\n",
      "806:\tlearn: 1435.6428059\ttotal: 3.04s\tremaining: 728ms\n",
      "807:\tlearn: 1435.2167568\ttotal: 3.05s\tremaining: 725ms\n",
      "808:\tlearn: 1434.7386192\ttotal: 3.05s\tremaining: 721ms\n",
      "809:\tlearn: 1434.5037266\ttotal: 3.06s\tremaining: 717ms\n",
      "810:\tlearn: 1434.3403099\ttotal: 3.06s\tremaining: 713ms\n",
      "811:\tlearn: 1434.1729623\ttotal: 3.06s\tremaining: 709ms\n",
      "812:\tlearn: 1433.8596838\ttotal: 3.06s\tremaining: 705ms\n",
      "813:\tlearn: 1433.4356362\ttotal: 3.07s\tremaining: 701ms\n",
      "814:\tlearn: 1432.9093244\ttotal: 3.07s\tremaining: 697ms\n",
      "815:\tlearn: 1432.5728622\ttotal: 3.07s\tremaining: 693ms\n",
      "816:\tlearn: 1431.9669187\ttotal: 3.08s\tremaining: 689ms\n",
      "817:\tlearn: 1431.5834682\ttotal: 3.08s\tremaining: 686ms\n",
      "818:\tlearn: 1431.3291436\ttotal: 3.08s\tremaining: 682ms\n",
      "819:\tlearn: 1430.6713447\ttotal: 3.09s\tremaining: 678ms\n",
      "820:\tlearn: 1429.8272940\ttotal: 3.09s\tremaining: 674ms\n",
      "821:\tlearn: 1429.5011997\ttotal: 3.1s\tremaining: 670ms\n",
      "822:\tlearn: 1428.9692999\ttotal: 3.1s\tremaining: 666ms\n",
      "823:\tlearn: 1428.6107282\ttotal: 3.1s\tremaining: 663ms\n",
      "824:\tlearn: 1428.3157375\ttotal: 3.1s\tremaining: 659ms\n",
      "825:\tlearn: 1427.4009315\ttotal: 3.11s\tremaining: 655ms\n",
      "826:\tlearn: 1427.0668386\ttotal: 3.11s\tremaining: 651ms\n",
      "827:\tlearn: 1426.6500246\ttotal: 3.12s\tremaining: 648ms\n",
      "828:\tlearn: 1426.3913524\ttotal: 3.12s\tremaining: 644ms\n",
      "829:\tlearn: 1425.9039642\ttotal: 3.13s\tremaining: 640ms\n",
      "830:\tlearn: 1425.3329493\ttotal: 3.13s\tremaining: 637ms\n",
      "831:\tlearn: 1424.7453229\ttotal: 3.13s\tremaining: 633ms\n",
      "832:\tlearn: 1424.3930326\ttotal: 3.14s\tremaining: 629ms\n",
      "833:\tlearn: 1424.2472892\ttotal: 3.14s\tremaining: 626ms\n",
      "834:\tlearn: 1423.9898838\ttotal: 3.15s\tremaining: 622ms\n",
      "835:\tlearn: 1423.3282459\ttotal: 3.15s\tremaining: 618ms\n",
      "836:\tlearn: 1423.1539905\ttotal: 3.15s\tremaining: 615ms\n",
      "837:\tlearn: 1422.9188531\ttotal: 3.16s\tremaining: 611ms\n",
      "838:\tlearn: 1422.6253106\ttotal: 3.17s\tremaining: 607ms\n",
      "839:\tlearn: 1422.2847827\ttotal: 3.17s\tremaining: 604ms\n",
      "840:\tlearn: 1421.9504388\ttotal: 3.17s\tremaining: 600ms\n",
      "841:\tlearn: 1421.0504530\ttotal: 3.18s\tremaining: 596ms\n",
      "842:\tlearn: 1420.7792492\ttotal: 3.18s\tremaining: 593ms\n",
      "843:\tlearn: 1420.4248753\ttotal: 3.19s\tremaining: 589ms\n",
      "844:\tlearn: 1420.0402073\ttotal: 3.19s\tremaining: 585ms\n",
      "845:\tlearn: 1419.7227415\ttotal: 3.19s\tremaining: 582ms\n",
      "846:\tlearn: 1419.5364770\ttotal: 3.2s\tremaining: 578ms\n",
      "847:\tlearn: 1419.1800408\ttotal: 3.21s\tremaining: 575ms\n",
      "848:\tlearn: 1418.8795288\ttotal: 3.21s\tremaining: 571ms\n",
      "849:\tlearn: 1418.7188397\ttotal: 3.22s\tremaining: 568ms\n",
      "850:\tlearn: 1418.3334591\ttotal: 3.22s\tremaining: 564ms\n",
      "851:\tlearn: 1417.8701686\ttotal: 3.23s\tremaining: 561ms\n",
      "852:\tlearn: 1417.6676426\ttotal: 3.23s\tremaining: 557ms\n",
      "853:\tlearn: 1417.5281683\ttotal: 3.23s\tremaining: 553ms\n",
      "854:\tlearn: 1417.0191288\ttotal: 3.24s\tremaining: 550ms\n",
      "855:\tlearn: 1416.6900980\ttotal: 3.25s\tremaining: 547ms\n",
      "856:\tlearn: 1416.3800398\ttotal: 3.25s\tremaining: 543ms\n",
      "857:\tlearn: 1415.9717025\ttotal: 3.26s\tremaining: 539ms\n",
      "858:\tlearn: 1415.5161322\ttotal: 3.26s\tremaining: 536ms\n",
      "859:\tlearn: 1415.2389583\ttotal: 3.27s\tremaining: 532ms\n",
      "860:\tlearn: 1414.8636371\ttotal: 3.27s\tremaining: 528ms\n",
      "861:\tlearn: 1414.3851124\ttotal: 3.27s\tremaining: 524ms\n",
      "862:\tlearn: 1414.0940396\ttotal: 3.28s\tremaining: 521ms\n",
      "863:\tlearn: 1413.7544410\ttotal: 3.28s\tremaining: 517ms\n",
      "864:\tlearn: 1413.1657172\ttotal: 3.29s\tremaining: 513ms\n",
      "865:\tlearn: 1412.6466304\ttotal: 3.29s\tremaining: 509ms\n",
      "866:\tlearn: 1412.0666195\ttotal: 3.29s\tremaining: 505ms\n",
      "867:\tlearn: 1411.7182974\ttotal: 3.3s\tremaining: 502ms\n",
      "868:\tlearn: 1411.2428118\ttotal: 3.3s\tremaining: 498ms\n",
      "869:\tlearn: 1411.1870691\ttotal: 3.3s\tremaining: 494ms\n",
      "870:\tlearn: 1410.9054077\ttotal: 3.31s\tremaining: 490ms\n",
      "871:\tlearn: 1410.5781060\ttotal: 3.31s\tremaining: 486ms\n",
      "872:\tlearn: 1410.4469321\ttotal: 3.31s\tremaining: 482ms\n",
      "873:\tlearn: 1409.9521767\ttotal: 3.32s\tremaining: 479ms\n",
      "874:\tlearn: 1409.6506821\ttotal: 3.32s\tremaining: 475ms\n",
      "875:\tlearn: 1409.2598682\ttotal: 3.33s\tremaining: 471ms\n",
      "876:\tlearn: 1408.8075070\ttotal: 3.33s\tremaining: 467ms\n",
      "877:\tlearn: 1408.3761898\ttotal: 3.33s\tremaining: 463ms\n",
      "878:\tlearn: 1408.0775548\ttotal: 3.34s\tremaining: 459ms\n",
      "879:\tlearn: 1407.3369223\ttotal: 3.34s\tremaining: 456ms\n",
      "880:\tlearn: 1407.0291117\ttotal: 3.34s\tremaining: 452ms\n",
      "881:\tlearn: 1406.7122580\ttotal: 3.35s\tremaining: 448ms\n",
      "882:\tlearn: 1406.2096473\ttotal: 3.35s\tremaining: 444ms\n",
      "883:\tlearn: 1405.9628722\ttotal: 3.35s\tremaining: 440ms\n",
      "884:\tlearn: 1405.4846719\ttotal: 3.36s\tremaining: 436ms\n",
      "885:\tlearn: 1405.0259897\ttotal: 3.36s\tremaining: 433ms\n",
      "886:\tlearn: 1404.5684935\ttotal: 3.37s\tremaining: 429ms\n",
      "887:\tlearn: 1404.2349721\ttotal: 3.37s\tremaining: 425ms\n",
      "888:\tlearn: 1404.0105707\ttotal: 3.38s\tremaining: 421ms\n",
      "889:\tlearn: 1403.8133812\ttotal: 3.38s\tremaining: 418ms\n",
      "890:\tlearn: 1403.4217811\ttotal: 3.38s\tremaining: 414ms\n",
      "891:\tlearn: 1402.7703454\ttotal: 3.39s\tremaining: 410ms\n",
      "892:\tlearn: 1402.5047026\ttotal: 3.39s\tremaining: 406ms\n",
      "893:\tlearn: 1402.4849268\ttotal: 3.39s\tremaining: 402ms\n",
      "894:\tlearn: 1402.1507866\ttotal: 3.4s\tremaining: 399ms\n",
      "895:\tlearn: 1401.7265672\ttotal: 3.4s\tremaining: 395ms\n",
      "896:\tlearn: 1401.5804666\ttotal: 3.4s\tremaining: 391ms\n",
      "897:\tlearn: 1401.0759730\ttotal: 3.41s\tremaining: 387ms\n",
      "898:\tlearn: 1400.4549100\ttotal: 3.41s\tremaining: 383ms\n",
      "899:\tlearn: 1400.3340288\ttotal: 3.42s\tremaining: 380ms\n",
      "900:\tlearn: 1400.0727152\ttotal: 3.42s\tremaining: 376ms\n",
      "901:\tlearn: 1399.8710338\ttotal: 3.42s\tremaining: 372ms\n",
      "902:\tlearn: 1399.3593667\ttotal: 3.43s\tremaining: 368ms\n",
      "903:\tlearn: 1399.2994776\ttotal: 3.43s\tremaining: 364ms\n",
      "904:\tlearn: 1398.8835198\ttotal: 3.43s\tremaining: 360ms\n",
      "905:\tlearn: 1398.6571427\ttotal: 3.44s\tremaining: 357ms\n",
      "906:\tlearn: 1398.4617084\ttotal: 3.44s\tremaining: 353ms\n",
      "907:\tlearn: 1398.1582785\ttotal: 3.44s\tremaining: 349ms\n",
      "908:\tlearn: 1397.8514171\ttotal: 3.45s\tremaining: 345ms\n",
      "909:\tlearn: 1397.4605383\ttotal: 3.45s\tremaining: 341ms\n",
      "910:\tlearn: 1397.4478171\ttotal: 3.45s\tremaining: 337ms\n",
      "911:\tlearn: 1397.3319194\ttotal: 3.46s\tremaining: 333ms\n",
      "912:\tlearn: 1396.6606172\ttotal: 3.46s\tremaining: 330ms\n",
      "913:\tlearn: 1396.3184713\ttotal: 3.46s\tremaining: 326ms\n",
      "914:\tlearn: 1395.8964729\ttotal: 3.46s\tremaining: 322ms\n",
      "915:\tlearn: 1395.6316100\ttotal: 3.47s\tremaining: 318ms\n",
      "916:\tlearn: 1395.3023760\ttotal: 3.47s\tremaining: 314ms\n",
      "917:\tlearn: 1395.2052915\ttotal: 3.47s\tremaining: 310ms\n",
      "918:\tlearn: 1394.9939381\ttotal: 3.47s\tremaining: 306ms\n",
      "919:\tlearn: 1394.7620616\ttotal: 3.48s\tremaining: 302ms\n",
      "920:\tlearn: 1394.0002500\ttotal: 3.48s\tremaining: 299ms\n",
      "921:\tlearn: 1393.9101365\ttotal: 3.48s\tremaining: 295ms\n",
      "922:\tlearn: 1393.6836896\ttotal: 3.49s\tremaining: 291ms\n",
      "923:\tlearn: 1393.3151479\ttotal: 3.49s\tremaining: 287ms\n",
      "924:\tlearn: 1393.2453392\ttotal: 3.49s\tremaining: 283ms\n",
      "925:\tlearn: 1392.9131171\ttotal: 3.5s\tremaining: 279ms\n",
      "926:\tlearn: 1392.7705928\ttotal: 3.5s\tremaining: 275ms\n",
      "927:\tlearn: 1392.5412523\ttotal: 3.5s\tremaining: 272ms\n",
      "928:\tlearn: 1392.4344438\ttotal: 3.5s\tremaining: 268ms\n",
      "929:\tlearn: 1391.8021920\ttotal: 3.51s\tremaining: 264ms\n",
      "930:\tlearn: 1391.4882978\ttotal: 3.51s\tremaining: 260ms\n",
      "931:\tlearn: 1391.1200240\ttotal: 3.51s\tremaining: 256ms\n",
      "932:\tlearn: 1391.0366803\ttotal: 3.51s\tremaining: 252ms\n",
      "933:\tlearn: 1390.7351004\ttotal: 3.52s\tremaining: 249ms\n",
      "934:\tlearn: 1390.4789712\ttotal: 3.52s\tremaining: 245ms\n",
      "935:\tlearn: 1390.1159053\ttotal: 3.52s\tremaining: 241ms\n",
      "936:\tlearn: 1389.9756364\ttotal: 3.53s\tremaining: 237ms\n",
      "937:\tlearn: 1389.7087200\ttotal: 3.53s\tremaining: 233ms\n",
      "938:\tlearn: 1389.2898667\ttotal: 3.53s\tremaining: 230ms\n",
      "939:\tlearn: 1389.0477108\ttotal: 3.54s\tremaining: 226ms\n",
      "940:\tlearn: 1388.8646053\ttotal: 3.54s\tremaining: 222ms\n",
      "941:\tlearn: 1388.7611299\ttotal: 3.54s\tremaining: 218ms\n",
      "942:\tlearn: 1388.4876494\ttotal: 3.54s\tremaining: 214ms\n",
      "943:\tlearn: 1388.4399886\ttotal: 3.55s\tremaining: 210ms\n",
      "944:\tlearn: 1388.2910860\ttotal: 3.55s\tremaining: 207ms\n",
      "945:\tlearn: 1388.0032239\ttotal: 3.55s\tremaining: 203ms\n",
      "946:\tlearn: 1387.2518984\ttotal: 3.55s\tremaining: 199ms\n",
      "947:\tlearn: 1387.0446385\ttotal: 3.56s\tremaining: 195ms\n",
      "948:\tlearn: 1386.6297969\ttotal: 3.56s\tremaining: 191ms\n",
      "949:\tlearn: 1386.3811673\ttotal: 3.56s\tremaining: 188ms\n",
      "950:\tlearn: 1386.2031465\ttotal: 3.57s\tremaining: 184ms\n",
      "951:\tlearn: 1385.8296705\ttotal: 3.57s\tremaining: 180ms\n",
      "952:\tlearn: 1385.2411299\ttotal: 3.57s\tremaining: 176ms\n",
      "953:\tlearn: 1384.9088569\ttotal: 3.58s\tremaining: 172ms\n",
      "954:\tlearn: 1384.4334889\ttotal: 3.58s\tremaining: 169ms\n",
      "955:\tlearn: 1384.2093046\ttotal: 3.58s\tremaining: 165ms\n",
      "956:\tlearn: 1383.8315974\ttotal: 3.58s\tremaining: 161ms\n",
      "957:\tlearn: 1383.5666479\ttotal: 3.59s\tremaining: 157ms\n",
      "958:\tlearn: 1383.3526127\ttotal: 3.59s\tremaining: 153ms\n",
      "959:\tlearn: 1383.0380037\ttotal: 3.59s\tremaining: 150ms\n",
      "960:\tlearn: 1382.7219510\ttotal: 3.59s\tremaining: 146ms\n",
      "961:\tlearn: 1382.5041798\ttotal: 3.6s\tremaining: 142ms\n",
      "962:\tlearn: 1382.1905225\ttotal: 3.6s\tremaining: 138ms\n",
      "963:\tlearn: 1381.9904260\ttotal: 3.6s\tremaining: 135ms\n",
      "964:\tlearn: 1381.6723769\ttotal: 3.6s\tremaining: 131ms\n",
      "965:\tlearn: 1381.1211193\ttotal: 3.61s\tremaining: 127ms\n",
      "966:\tlearn: 1380.6583721\ttotal: 3.61s\tremaining: 123ms\n",
      "967:\tlearn: 1380.5181655\ttotal: 3.61s\tremaining: 119ms\n",
      "968:\tlearn: 1380.1299031\ttotal: 3.62s\tremaining: 116ms\n",
      "969:\tlearn: 1379.7541973\ttotal: 3.62s\tremaining: 112ms\n",
      "970:\tlearn: 1379.5272494\ttotal: 3.62s\tremaining: 108ms\n",
      "971:\tlearn: 1379.2578893\ttotal: 3.62s\tremaining: 104ms\n",
      "972:\tlearn: 1378.9420649\ttotal: 3.63s\tremaining: 101ms\n",
      "973:\tlearn: 1378.5581535\ttotal: 3.63s\tremaining: 96.9ms\n",
      "974:\tlearn: 1378.4147844\ttotal: 3.63s\tremaining: 93.2ms\n",
      "975:\tlearn: 1378.0504216\ttotal: 3.63s\tremaining: 89.4ms\n",
      "976:\tlearn: 1377.8585715\ttotal: 3.64s\tremaining: 85.7ms\n",
      "977:\tlearn: 1377.5301981\ttotal: 3.64s\tremaining: 81.9ms\n",
      "978:\tlearn: 1377.1525013\ttotal: 3.64s\tremaining: 78.2ms\n",
      "979:\tlearn: 1376.8754356\ttotal: 3.65s\tremaining: 74.4ms\n",
      "980:\tlearn: 1376.3866419\ttotal: 3.65s\tremaining: 70.7ms\n",
      "981:\tlearn: 1376.3546577\ttotal: 3.65s\tremaining: 66.9ms\n",
      "982:\tlearn: 1376.0751920\ttotal: 3.65s\tremaining: 63.2ms\n",
      "983:\tlearn: 1375.7440572\ttotal: 3.66s\tremaining: 59.5ms\n",
      "984:\tlearn: 1375.3559757\ttotal: 3.66s\tremaining: 55.7ms\n",
      "985:\tlearn: 1375.1001786\ttotal: 3.66s\tremaining: 52ms\n",
      "986:\tlearn: 1374.9435403\ttotal: 3.67s\tremaining: 48.3ms\n",
      "987:\tlearn: 1374.5458961\ttotal: 3.67s\tremaining: 44.6ms\n",
      "988:\tlearn: 1374.1432447\ttotal: 3.67s\tremaining: 40.8ms\n",
      "989:\tlearn: 1373.9094392\ttotal: 3.67s\tremaining: 37.1ms\n",
      "990:\tlearn: 1373.5632135\ttotal: 3.68s\tremaining: 33.4ms\n",
      "991:\tlearn: 1372.8392936\ttotal: 3.68s\tremaining: 29.7ms\n",
      "992:\tlearn: 1372.4728419\ttotal: 3.68s\tremaining: 26ms\n",
      "993:\tlearn: 1372.2362865\ttotal: 3.69s\tremaining: 22.2ms\n"
     ]
    },
    {
     "name": "stdout",
     "output_type": "stream",
     "text": [
      "994:\tlearn: 1371.9571937\ttotal: 3.69s\tremaining: 18.5ms\n",
      "995:\tlearn: 1371.7150664\ttotal: 3.69s\tremaining: 14.8ms\n",
      "996:\tlearn: 1370.9169462\ttotal: 3.73s\tremaining: 11.2ms\n",
      "997:\tlearn: 1370.6879449\ttotal: 3.73s\tremaining: 7.48ms\n",
      "998:\tlearn: 1370.3834628\ttotal: 3.74s\tremaining: 3.74ms\n",
      "999:\tlearn: 1370.2325515\ttotal: 3.74s\tremaining: 0us\n"
     ]
    },
    {
     "data": {
      "text/plain": [
       "<catboost.core.CatBoostRegressor at 0x2e8feae5c08>"
      ]
     },
     "execution_count": 50,
     "metadata": {},
     "output_type": "execute_result"
    }
   ],
   "source": [
    "model_cat=CatBoostRegressor()\n",
    "model_cat.fit(x_train,y_train)"
   ]
  },
  {
   "cell_type": "code",
   "execution_count": 51,
   "metadata": {},
   "outputs": [
    {
     "name": "stdout",
     "output_type": "stream",
     "text": [
      "The model performance on train dataset: 0.91\n",
      "The model performance on test dataset: 0.85\n"
     ]
    }
   ],
   "source": [
    "print(f\"The model performance on train dataset: {round(model_cat.score(x_train, y_train),2)}\")\n",
    "print(f\"The model performance on test dataset: {round(model_cat.score(x_test, y_test),2)}\")"
   ]
  },
  {
   "cell_type": "markdown",
   "metadata": {},
   "source": [
    "### LGBM REGRESSOR"
   ]
  },
  {
   "cell_type": "code",
   "execution_count": 52,
   "metadata": {},
   "outputs": [],
   "source": [
    "x_train[['duration_hr','duration_min']]=x_train[['duration_hr','duration_min']].astype(int)\n",
    "x_test[['duration_hr','duration_min']]=x_test[['duration_hr','duration_min']].astype(int)"
   ]
  },
  {
   "cell_type": "code",
   "execution_count": 53,
   "metadata": {},
   "outputs": [
    {
     "data": {
      "text/plain": [
       "LGBMRegressor(boosting_type='gbdt', class_weight=None, colsample_bytree=1.0,\n",
       "              importance_type='split', learning_rate=0.1, max_depth=-1,\n",
       "              min_child_samples=20, min_child_weight=0.001, min_split_gain=0.0,\n",
       "              n_estimators=100, n_jobs=-1, num_leaves=31, objective=None,\n",
       "              random_state=None, reg_alpha=0.0, reg_lambda=0.0, silent='warn',\n",
       "              subsample=1.0, subsample_for_bin=200000, subsample_freq=0)"
      ]
     },
     "execution_count": 53,
     "metadata": {},
     "output_type": "execute_result"
    }
   ],
   "source": [
    "model_lgbm = LGBMRegressor()\n",
    "model_lgbm.fit(x_train,y_train)"
   ]
  },
  {
   "cell_type": "code",
   "execution_count": 54,
   "metadata": {},
   "outputs": [
    {
     "name": "stdout",
     "output_type": "stream",
     "text": [
      "The model performance on train dataset: 0.87\n",
      "The model performance on test dataset: 0.82\n"
     ]
    }
   ],
   "source": [
    "print(f\"The model performance on train dataset: {round(model_lgbm.score(x_train, y_train),2)}\")\n",
    "print(f\"The model performance on test dataset: {round(model_lgbm.score(x_test, y_test),2)}\")"
   ]
  },
  {
   "cell_type": "markdown",
   "metadata": {},
   "source": [
    "### XG BOOST"
   ]
  },
  {
   "cell_type": "code",
   "execution_count": 55,
   "metadata": {},
   "outputs": [
    {
     "data": {
      "text/plain": [
       "XGBRegressor(base_score=0.5, booster='gbtree', colsample_bylevel=1,\n",
       "             colsample_bynode=1, colsample_bytree=1, enable_categorical=False,\n",
       "             gamma=0, gpu_id=-1, importance_type=None,\n",
       "             interaction_constraints='', learning_rate=0.300000012,\n",
       "             max_delta_step=0, max_depth=6, min_child_weight=1, missing=nan,\n",
       "             monotone_constraints='()', n_estimators=100, n_jobs=4,\n",
       "             num_parallel_tree=1, objective='reg:squarederror',\n",
       "             predictor='auto', random_state=0, reg_alpha=0, reg_lambda=1,\n",
       "             scale_pos_weight=1, subsample=1, tree_method='exact',\n",
       "             validate_parameters=1, verbosity=None)"
      ]
     },
     "execution_count": 55,
     "metadata": {},
     "output_type": "execute_result"
    }
   ],
   "source": [
    "model_xgb=xgb.XGBRegressor()\n",
    "model_xgb.fit(x_train,y_train)"
   ]
  },
  {
   "cell_type": "code",
   "execution_count": 56,
   "metadata": {},
   "outputs": [
    {
     "name": "stdout",
     "output_type": "stream",
     "text": [
      "The model performance on train dataset: 0.94\n",
      "The model performance on test dataset: 0.84\n"
     ]
    }
   ],
   "source": [
    "print(f\"The model performance on train dataset: {round(model_xgb.score(x_train, y_train),2)}\")\n",
    "print(f\"The model performance on test dataset: {round(model_xgb.score(x_test, y_test),2)}\")"
   ]
  },
  {
   "cell_type": "markdown",
   "metadata": {},
   "source": [
    "Trying many models, we can see that Cat Boost Regressor gives the highest score of 85% on test dataset.Thus we will save this model for deployment. "
   ]
  },
  {
   "cell_type": "markdown",
   "metadata": {},
   "source": [
    "### Best model saving"
   ]
  },
  {
   "cell_type": "code",
   "execution_count": 57,
   "metadata": {},
   "outputs": [],
   "source": [
    "pickle.dump(model_cat, open('model.pkl','wb'))\n",
    "model=pickle.load(open('model.pkl','rb'))"
   ]
  },
  {
   "cell_type": "code",
   "execution_count": null,
   "metadata": {},
   "outputs": [],
   "source": []
  }
 ],
 "metadata": {
  "kernelspec": {
   "display_name": "Python 3",
   "language": "python",
   "name": "python3"
  },
  "language_info": {
   "codemirror_mode": {
    "name": "ipython",
    "version": 3
   },
   "file_extension": ".py",
   "mimetype": "text/x-python",
   "name": "python",
   "nbconvert_exporter": "python",
   "pygments_lexer": "ipython3",
   "version": "3.7.6"
  }
 },
 "nbformat": 4,
 "nbformat_minor": 4
}
